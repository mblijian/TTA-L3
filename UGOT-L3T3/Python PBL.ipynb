{
 "cells": [
  {
   "cell_type": "markdown",
   "id": "58ac2a53-a89f-4836-9896-cf2075704425",
   "metadata": {
    "jp-MarkdownHeadingCollapsed": true
   },
   "source": [
    "## UGOT connection"
   ]
  },
  {
   "cell_type": "code",
   "execution_count": 2,
   "id": "200b8bf5-4db4-412c-bd9d-d2585a0153a2",
   "metadata": {},
   "outputs": [
    {
     "name": "stdout",
     "output_type": "stream",
     "text": [
      "192.168.1.235:50051\n"
     ]
    }
   ],
   "source": [
    "from ugot import ugot\n",
    "import time\n",
    "\n",
    "got = ugot.UGOT()\n",
    "\n",
    "got.initialize('192.168.1.235')\n",
    "got.play_audio_tts(\"Hello coder,let's start programming.\")\n",
    "got.show_light_rgb_effect(0, 225,0,3)\n",
    "time.sleep(2)\n",
    "got.turn_off_lights()"
   ]
  },
  {
   "cell_type": "markdown",
   "id": "f3966825-8126-4c56-b7a8-7e82555e2e92",
   "metadata": {
    "jp-MarkdownHeadingCollapsed": true
   },
   "source": [
    "## Session 1"
   ]
  },
  {
   "cell_type": "markdown",
   "id": "1c84f10c-20cc-47bc-9805-950e122d6b9e",
   "metadata": {},
   "source": [
    "## Syntax"
   ]
  },
  {
   "cell_type": "code",
   "execution_count": 22,
   "id": "25f7152b-ef4e-4f49-97a0-36a663701626",
   "metadata": {},
   "outputs": [
    {
     "name": "stdout",
     "output_type": "stream",
     "text": [
      "Hello World!\n",
      "Hello World!\n"
     ]
    }
   ],
   "source": [
    "# Print \"Hello World!\" using double quotes\n",
    "print(\"Hello World!\")\n",
    "# Print \"Hello World!\" using single quotes\n",
    "print('Hello World!')"
   ]
  },
  {
   "cell_type": "code",
   "execution_count": 27,
   "id": "a3bd3d14-0036-434f-84f7-563ace938d32",
   "metadata": {},
   "outputs": [
    {
     "name": "stdout",
     "output_type": "stream",
     "text": [
      "Hello World!\n",
      "Hello World!\n"
     ]
    }
   ],
   "source": [
    "# Print \"Hello World!\" using double quotes\n",
    "print(\"Hello World!\")\n",
    "# Print \"Hello World!\" using single quotes\n",
    "print('Hello World!')"
   ]
  },
  {
   "cell_type": "markdown",
   "id": "a5074973-a258-4fe3-a1a6-ca231d5d2284",
   "metadata": {},
   "source": [
    "## Indentation"
   ]
  },
  {
   "cell_type": "code",
   "execution_count": 40,
   "id": "9223f427-5ed6-44d7-809b-96059396f145",
   "metadata": {
    "collapsed": true,
    "jupyter": {
     "outputs_hidden": true
    },
    "scrolled": true
   },
   "outputs": [
    {
     "ename": "IndentationError",
     "evalue": "unexpected indent (3552842690.py, line 2)",
     "output_type": "error",
     "traceback": [
      "\u001b[0;36m  Cell \u001b[0;32mIn[40], line 2\u001b[0;36m\u001b[0m\n\u001b[0;31m    print('Hello World!') # the indentation is very important and please be careful.\u001b[0m\n\u001b[0m    ^\u001b[0m\n\u001b[0;31mIndentationError\u001b[0m\u001b[0;31m:\u001b[0m unexpected indent\n"
     ]
    }
   ],
   "source": [
    "print(\"Hello World!\")\n",
    "  print('Hello World!') # the indentation is very important and please be careful."
   ]
  },
  {
   "cell_type": "code",
   "execution_count": 36,
   "id": "6c4caa61-d728-4fbe-9e25-f855218462ea",
   "metadata": {
    "collapsed": true,
    "jupyter": {
     "outputs_hidden": true
    }
   },
   "outputs": [
    {
     "name": "stdout",
     "output_type": "stream",
     "text": [
      "then is greater than three\n",
      " eight is less than twenty\n"
     ]
    }
   ],
   "source": [
    "if 10 > 3:\n",
    "  print (\"then is greater than three\")\n",
    "if 8<20:\n",
    "     print (\" eight is less than twenty\") # You have to use the same number of spaces in the same block of code, otherwise Python will give you an error:\n"
   ]
  },
  {
   "cell_type": "markdown",
   "id": "ec567ff1-be6c-4467-ba58-107ce75996b7",
   "metadata": {},
   "source": [
    "## Create a new line"
   ]
  },
  {
   "cell_type": "code",
   "execution_count": 30,
   "id": "8780a289-ea8c-410c-be80-5d2880589284",
   "metadata": {},
   "outputs": [
    {
     "name": "stdout",
     "output_type": "stream",
     "text": [
      "Hello World! I love Python and robotoics. I'll beccome a soft engineer in the future!\n",
      "Hello World! \n",
      "I love Python and robotoics. \n",
      "I'll beccome a soft engineer in the future!\n"
     ]
    }
   ],
   "source": [
    "print(\"Hello World! I love Python and robotoics. I'll beccome a soft engineer in the future!\")\n",
    "print(\"Hello World! \\nI love Python and robotoics. \\nI'll beccome a soft engineer in the future!\")"
   ]
  },
  {
   "cell_type": "markdown",
   "id": "7e1fbbb9-0ace-4907-aec2-78925b963856",
   "metadata": {},
   "source": [
    "## Add comments"
   ]
  },
  {
   "cell_type": "code",
   "execution_count": null,
   "id": "d2c22b60-733c-4fcb-8aec-21307524e1c6",
   "metadata": {},
   "outputs": [],
   "source": [
    "print(\"Mr. Li is getting older!\") # It's a sad truth."
   ]
  },
  {
   "cell_type": "markdown",
   "id": "4b2031c7-83a8-4ad4-afce-f1f0e3f78740",
   "metadata": {},
   "source": [
    "## Variables"
   ]
  },
  {
   "cell_type": "code",
   "execution_count": 46,
   "id": "fcf7a519-742f-4b89-8cb5-9e4c6ead1ecc",
   "metadata": {},
   "outputs": [
    {
     "name": "stdout",
     "output_type": "stream",
     "text": [
      "Hello my name is Mr. Li.\n",
      "Hello my name is Mr. Li.\n",
      "I am at least 10000 years old.\n",
      "My job is teacher.\n",
      "My favorite is teaching Python.\n"
     ]
    }
   ],
   "source": [
    "# VAriables are named containers that store values of particular data types.\n",
    "#Python has no command for declaring a variable. A variable is created the moment you first assign a value to it.\n",
    "\n",
    "name = \"Mr. Li.\"\n",
    "age = 10000\n",
    "job = \"teacher.\"\n",
    "hobby = \"teaching Python.\"\n",
    "\n",
    "print(\"Hello my name is\", name)\n",
    "print (\"I am at least\", age ,\"years old.\")\n",
    "print(\"My job is\", job)\n",
    "print(\"My favorite is\", hobby)"
   ]
  },
  {
   "cell_type": "code",
   "execution_count": 15,
   "id": "56e4dbd2-5e67-4868-b59c-6b2adc993922",
   "metadata": {},
   "outputs": [
    {
     "name": "stdout",
     "output_type": "stream",
     "text": [
      "Hello my name is Mr. Li \n",
      "I am 10000 years old \n",
      "My job is teacher. \n",
      "My favorite is teaching Python.\n"
     ]
    }
   ],
   "source": [
    "print(\"Hello my name is\", name,\"\\nI am\", age, \"years old\", \"\\nMy job is\", job, \"\\nMy favorite is\", hobby,)"
   ]
  },
  {
   "cell_type": "code",
   "execution_count": 57,
   "id": "2033a891-a1c0-4231-aebc-3aec13298408",
   "metadata": {},
   "outputs": [
    {
     "name": "stdin",
     "output_type": "stream",
     "text": [
      "What is your name? Li\n"
     ]
    },
    {
     "name": "stdout",
     "output_type": "stream",
     "text": [
      "Hello Li\n",
      "TypeError: play_audio_tts(): invalid value of voice_type, expected 0 or 1, got Li\n"
     ]
    },
    {
     "name": "stdin",
     "output_type": "stream",
     "text": [
      "How old are you? 1000\n"
     ]
    },
    {
     "name": "stdout",
     "output_type": "stream",
     "text": [
      "You are 1000 years old.\n"
     ]
    },
    {
     "name": "stdin",
     "output_type": "stream",
     "text": [
      "What's your job? teacher\n"
     ]
    },
    {
     "name": "stdout",
     "output_type": "stream",
     "text": [
      "Your job is teacher\n"
     ]
    },
    {
     "name": "stdin",
     "output_type": "stream",
     "text": [
      "What's your hobby? teaching\n"
     ]
    },
    {
     "name": "stdout",
     "output_type": "stream",
     "text": [
      "Your hobby is teaching\n"
     ]
    }
   ],
   "source": [
    "name = input(\"What is your name?\")\n",
    "got.play_audio_tts(name)\n",
    "print(\"Hello\",name)\n",
    "got.play_audio_tts(\"Hello\",name)\n",
    "age = input(\"How old are you?\")\n",
    "print(\"You are\",age,\"years old.\")\n",
    "job = input(\"What's your job?\")\n",
    "print(\"Your job is\",job)\n",
    "hobby= input(\"What's your hobby?\")\n",
    "print(\"Your hobby is\",hobby)"
   ]
  },
  {
   "cell_type": "code",
   "execution_count": null,
   "id": "4a995ed0-ee48-4a58-991c-b2d7bcb91f60",
   "metadata": {},
   "outputs": [],
   "source": []
  },
  {
   "cell_type": "markdown",
   "id": "e57ba93a-af30-44c6-bbf9-23548bd6dc11",
   "metadata": {},
   "source": [
    "## Silly story telling"
   ]
  },
  {
   "cell_type": "markdown",
   "id": "2f5fc1a3-bfb3-4d88-b150-2c9472db912b",
   "metadata": {},
   "source": [
    "Please use GPT4 or any other AI tool to generate a silly story. There's the prompt:\n",
    "a. Please generate a silly story that includes an animal, a color, a place, a food, a number, an adjective, and a verb in around 70 words.\n",
    "b. Replace the animal with \"animal\", the color with \"color\" the place with \"place\", the food with\"food\", the number with\"number\", the adjective with \"adjective\", and the verb with\"verb\". Next add \"+\" both in front of and behind the above mentioned words."
   ]
  },
  {
   "cell_type": "code",
   "execution_count": 67,
   "id": "a82afa8c-a5e8-41d9-a880-fcf78e05782e",
   "metadata": {},
   "outputs": [
    {
     "name": "stdout",
     "output_type": "stream",
     "text": [
      "192.168.1.192:50051\n"
     ]
    }
   ],
   "source": [
    "from ugot import ugot\n",
    "import time\n",
    "\n",
    "got = ugot.UGOT()\n",
    "\n",
    "got.initialize('192.168.1.192')\n",
    "got.play_audio_tts(\"Hello coder,let's start programming.\")\n",
    "got.show_light_rgb_effect(0, 225,0,3)\n",
    "time.sleep(2)\n",
    "got.turn_off_lights()"
   ]
  },
  {
   "cell_type": "code",
   "execution_count": 14,
   "id": "dbcc6c81-00ee-40f1-b0d6-0fc3446a19a0",
   "metadata": {},
   "outputs": [
    {
     "name": "stdout",
     "output_type": "stream",
     "text": [
      "Welcome to the Silly Story Creator!\n",
      "Let's create a funny story together using your words.\n"
     ]
    },
    {
     "name": "stdin",
     "output_type": "stream",
     "text": [
      "Enter an animal:  bird\n",
      "Enter a color:  blue\n",
      "Enter a place:  the space\n",
      "Enter a food item:  worm\n",
      "Enter a number:  12\n",
      "Enter an adjective (describing word):  sad\n",
      "Enter a verb (action word):  eat\n"
     ]
    },
    {
     "name": "stdout",
     "output_type": "stream",
     "text": [
      "\n",
      "--- Your Silly Story ---\n",
      "Once upon a time, there was a blue bird who lived in the space. The bird loved to eat every day with 12 friends. One day, they found a sad treasure chest filled with worm! It was the most sad day in the history of the space. The End!\n",
      "\n",
      "Reading your story aloud...\n",
      "\n",
      "Thank you for creating this silly story!\n"
     ]
    }
   ],
   "source": [
    "# Story Creator Game with text-to-speech\n",
    "\n",
    "print(\"Welcome to the Silly Story Creator!\")\n",
    "print(\"Let's create a funny story together using your words.\")\n",
    "\n",
    "# Get inputs from the player\n",
    "animal = input(\"Enter an animal: \")\n",
    "color = input(\"Enter a color: \")\n",
    "place = input(\"Enter a place: \")\n",
    "food = input(\"Enter a food item: \")\n",
    "number = input(\"Enter a number: \")\n",
    "adjective = input(\"Enter an adjective (describing word): \")\n",
    "verb = input(\"Enter a verb (action word): \")\n",
    "\n",
    "# Create the story using the player's inputs\n",
    "story_title = \"Your Silly Story\"\n",
    "story_text = \"Once upon a time, there was a \" + color + \" \" + animal + \" who lived in \" + place + \". \"\n",
    "story_text += \"The \" + animal + \" loved to \" + verb + \" every day with \" + number + \" friends. \"\n",
    "story_text += \"One day, they found a \" + adjective + \" treasure chest filled with \" + food + \"! \"\n",
    "story_text += \"It was the most \" + adjective + \" day in the history of \" + place + \". \"\n",
    "story_text += \"The End!\"\n",
    "\n",
    "# Print the story\n",
    "print(\"\\n--- \" + story_title + \" ---\")\n",
    "print(story_text)\n",
    "\n",
    "# Read the story aloud using text-to-speech\n",
    "got.play_audio_tts(story_text)\n",
    "\n",
    "print(\"\\nThank you for creating this silly story!\")\n",
    "got.show_light_rgb_effect(0,0,225,3)"
   ]
  },
  {
   "cell_type": "code",
   "execution_count": null,
   "id": "d31d0eb3-ad18-4e21-9dfe-2c0194e261b2",
   "metadata": {},
   "outputs": [],
   "source": []
  },
  {
   "cell_type": "markdown",
   "id": "2215ca53-65c8-4b17-987b-c69e4b61e5dd",
   "metadata": {},
   "source": [
    "## Session 2"
   ]
  },
  {
   "cell_type": "markdown",
   "id": "5299c559-8ca6-40f3-9d4e-14d6c188d48a",
   "metadata": {
    "jp-MarkdownHeadingCollapsed": true
   },
   "source": [
    "## Data Type"
   ]
  },
  {
   "cell_type": "code",
   "execution_count": 3,
   "id": "248bd456-5640-45e4-8b45-ee2ea8ee9e35",
   "metadata": {},
   "outputs": [
    {
     "name": "stdout",
     "output_type": "stream",
     "text": [
      "5 hello TTA! 3.1415926\n"
     ]
    }
   ],
   "source": [
    "x = 5 ## Assigns an integer value of 5 to variable x\n",
    "y = \"Hello TTA!\" # Assigns a string value \"hello TTA!\" to variable y\n",
    "z = 3.1415926 # Assigns a floating-point number (decimal) value of 3.1415926 to variable z\n",
    "print(x,y,z)"
   ]
  },
  {
   "cell_type": "code",
   "execution_count": 19,
   "id": "551e4003-4aba-4196-b661-c89835065c09",
   "metadata": {},
   "outputs": [
    {
     "name": "stdout",
     "output_type": "stream",
     "text": [
      "<class 'int'>\n",
      "<class 'str'>\n",
      "<class 'float'>\n",
      "<class 'bool'>\n"
     ]
    }
   ],
   "source": [
    "x = 5\n",
    "y = \"hello TTA!\" \n",
    "z = 3.1415926\n",
    "k = True\n",
    "\n",
    "print(type(x)) # The funcation takes one argument and returen what king of object it is(int, str, float, etc)\n",
    "print(type(y))\n",
    "print(type(z)) \n",
    "print(type(k))"
   ]
  },
  {
   "cell_type": "code",
   "execution_count": 26,
   "id": "a0db8763-5a13-4280-968a-87321c1bb170",
   "metadata": {},
   "outputs": [
    {
     "name": "stdout",
     "output_type": "stream",
     "text": [
      "<class 'int'>\n",
      "<class 'str'>\n",
      "<class 'float'>\n",
      "<class 'bool'>\n",
      "<class 'str'>\n",
      "<class 'str'>\n",
      "<class 'str'>\n"
     ]
    }
   ],
   "source": [
    "x = 5\n",
    "y = \"hello TTA!\" \n",
    "z = 3.1415926\n",
    "k = True\n",
    "\n",
    "print(type(x)) # The funcation takes one argument and returen what king of object it is(int, str, float, etc)\n",
    "print(type(y))\n",
    "print(type(z)) \n",
    "print(type(k))\n",
    "\n",
    "a = str(x)\n",
    "b = str(z)\n",
    "c = str(z)\n",
    "\n",
    "print(type(a)) # The funcation takes one argument and returen what king of object it is(int, str, float, etc)\n",
    "print(type(b))\n",
    "print(type(c))"
   ]
  },
  {
   "cell_type": "markdown",
   "id": "cf0f166b-e18f-4bb4-a815-ec591002f2b2",
   "metadata": {},
   "source": [
    "Please print this sentence: It is True that 5 + 10 = 15. "
   ]
  },
  {
   "cell_type": "code",
   "execution_count": 38,
   "id": "5a4ff9eb-e3e2-4a3c-aa38-7612ab61666b",
   "metadata": {
    "scrolled": true
   },
   "outputs": [
    {
     "name": "stdout",
     "output_type": "stream",
     "text": [
      "It is True that 5+10=15\n"
     ]
    }
   ],
   "source": [
    "x = 5\n",
    "y = 10\n",
    "z = True\n",
    "\n",
    "\n",
    "str(x)\n",
    "str(y)\n",
    "str(z)\n",
    "\n",
    "print(\"It is \" + str(z) + \" that \" + str(x) +\"+\"+ str(y)+\"=\"+ \"15\")"
   ]
  },
  {
   "cell_type": "code",
   "execution_count": 16,
   "id": "541d9679-21f6-4fa3-86e5-68479c60e7e2",
   "metadata": {},
   "outputs": [
    {
     "name": "stdout",
     "output_type": "stream",
     "text": [
      "15\n"
     ]
    }
   ],
   "source": [
    "x = 5\n",
    "y = 10\n",
    "z = True\n",
    "\n",
    "print(x + y)"
   ]
  },
  {
   "cell_type": "code",
   "execution_count": null,
   "id": "8fa4e85d-f92e-403a-827d-5ef0a2b407a2",
   "metadata": {},
   "outputs": [],
   "source": []
  },
  {
   "cell_type": "markdown",
   "id": "beee1993-a3fd-45da-96a8-d47dcd89de11",
   "metadata": {
    "jp-MarkdownHeadingCollapsed": true
   },
   "source": [
    "## Arithmetic operators"
   ]
  },
  {
   "cell_type": "code",
   "execution_count": 25,
   "id": "c213faad-f3c2-4f5a-ac9b-7338930e3eea",
   "metadata": {},
   "outputs": [
    {
     "name": "stdout",
     "output_type": "stream",
     "text": [
      "15\n",
      "10\n",
      "45\n",
      "5.0\n"
     ]
    }
   ],
   "source": [
    "x = 10\n",
    "y = 5\n",
    "print (x + y)\n",
    "\n",
    "x = 20\n",
    "y = 10\n",
    "print (x-y)\n",
    "\n",
    "x = 5\n",
    "y = 9\n",
    "print (x * y)\n",
    "\n",
    "x = 30\n",
    "y = 6\n",
    "print(x/y)"
   ]
  },
  {
   "cell_type": "markdown",
   "id": "9a0fd8f4-fb1f-4653-9ee4-60a9dec2081e",
   "metadata": {
    "jp-MarkdownHeadingCollapsed": true
   },
   "source": [
    "## Assignment operators"
   ]
  },
  {
   "cell_type": "code",
   "execution_count": 53,
   "id": "3e3f5fb0-2435-49f6-9033-163b05561394",
   "metadata": {},
   "outputs": [
    {
     "name": "stdout",
     "output_type": "stream",
     "text": [
      "15\n",
      "5\n",
      "50\n",
      "2.0\n"
     ]
    }
   ],
   "source": [
    "x = 10\n",
    "x +=5\n",
    "print(x)\n",
    "\n",
    "x = 10\n",
    "x -=5\n",
    "print(x)\n",
    "\n",
    "x = 10\n",
    "x *= 5\n",
    "print(x)\n",
    "\n",
    "x = 10\n",
    "x /=5\n",
    "print(x)"
   ]
  },
  {
   "cell_type": "markdown",
   "id": "923e32ee-ba5b-4cd7-b58b-f87d6a17e72f",
   "metadata": {
    "jp-MarkdownHeadingCollapsed": true
   },
   "source": [
    "## random movement"
   ]
  },
  {
   "cell_type": "code",
   "execution_count": 86,
   "id": "e3540174-635d-4207-a8a3-57c272cf4e69",
   "metadata": {},
   "outputs": [
    {
     "name": "stdout",
     "output_type": "stream",
     "text": [
      "192.168.1.192:50051\n"
     ]
    }
   ],
   "source": [
    "from ugot import ugot\n",
    "import time\n",
    "\n",
    "got = ugot.UGOT()\n",
    "\n",
    "got.initialize('192.168.1.192')\n",
    "got.play_audio_tts(\"Hello coder,let's start programming.\")\n",
    "got.show_light_rgb_effect(0, 225,0,3)\n",
    "time.sleep(2)\n",
    "got.turn_off_lights()"
   ]
  },
  {
   "cell_type": "code",
   "execution_count": 58,
   "id": "a349d28e-4df7-42a7-9c2e-2bcb82e049e7",
   "metadata": {},
   "outputs": [],
   "source": [
    "## got.mecanum_move_speed_times(direction, speed, times, unit)\n",
    "## Just random and inter\n",
    "import random\n",
    "import time\n",
    "\n",
    "speed = random.randint(10,20)\n",
    "distance = random.randint(60,100)\n",
    "direction = random.randint(0,1)\n",
    "turn = random.randint(2,3)\n",
    "degree = random.randint(90,180)\n",
    "\n",
    "got.mecanum_move_speed_times(1, speed, distance,1)\n",
    "time.sleep(2)\n",
    "got.mecanum_turn_speed_times(turn, speed,degree,2)\n"
   ]
  },
  {
   "cell_type": "code",
   "execution_count": null,
   "id": "94947bd0-e138-4ee7-a995-05dbce1082b0",
   "metadata": {},
   "outputs": [],
   "source": []
  },
  {
   "cell_type": "code",
   "execution_count": 102,
   "id": "9795a148-dd2b-4a55-a599-0e2faacf0ee3",
   "metadata": {},
   "outputs": [],
   "source": [
    "## got.mecanum_move_speed_times(direction, speed, times, unit)\n",
    "## random, inter and operators\n",
    "import random\n",
    "import time\n",
    "\n",
    "x = 5\n",
    "y= 10\n",
    "\n",
    "\n",
    "speed = random.randint(x+5,y+10)\n",
    "distance = random.randint(x*12,y*10)\n",
    "direction = random.randint(0,1)\n",
    "turn = random.randint(2,3)\n",
    "degree = random.randint(5*18,10*18)\n",
    "\n",
    "got.mecanum_move_speed_times(direction, speed, distance,1)\n",
    "time.sleep(2)\n",
    "got.mecanum_turn_speed_times(turn, speed,degree,2)\n",
    "got.play_audio_tts(\"Mission completed.\")"
   ]
  },
  {
   "cell_type": "code",
   "execution_count": 114,
   "id": "11d46063-1c2d-4aed-b7bd-cff3b63fdec1",
   "metadata": {},
   "outputs": [
    {
     "name": "stdout",
     "output_type": "stream",
     "text": [
      "Speed =  10\n",
      "Distacne =  78\n",
      "Direction =  0\n",
      "Turn =  2\n",
      "Degree =  127\n"
     ]
    }
   ],
   "source": [
    "## got.mecanum_move_speed_times(direction, speed, times, unit)\n",
    "## random, inter and operators\n",
    "## print values\n",
    "import random\n",
    "import time\n",
    "\n",
    "x = 5\n",
    "y= 10\n",
    "\n",
    "\n",
    "speed = random.randint(x+5,y+10)\n",
    "distance = random.randint(x*12,y*10)\n",
    "direction = random.randint(0,1)\n",
    "turn = random.randint(2,3)\n",
    "degree = random.randint(5*18,10*18)\n",
    "\n",
    "print(\"Speed = \", speed )\n",
    "print(\"Distacne = \", distance )\n",
    "print(\"Direction = \", direction )\n",
    "print(\"Turn = \", turn)\n",
    "print(\"Degree = \", degree )\n",
    "\n",
    "\n",
    "got.mecanum_move_speed_times(direction, speed, distance,1)\n",
    "time.sleep(2)\n",
    "got.mecanum_turn_speed_times(turn, speed,degree,2)\n",
    "got.play_audio_tts(\"Mission completed.\")"
   ]
  },
  {
   "cell_type": "markdown",
   "id": "86517831-236a-4f9f-8a5b-4487175ad35f",
   "metadata": {
    "jp-MarkdownHeadingCollapsed": true
   },
   "source": [
    "## for loop"
   ]
  },
  {
   "cell_type": "code",
   "execution_count": 124,
   "id": "771816f5-f43c-45ff-9f21-94e6e7560d21",
   "metadata": {},
   "outputs": [
    {
     "name": "stdout",
     "output_type": "stream",
     "text": [
      "s\n",
      "t\n",
      "r\n",
      "a\n",
      "w\n",
      "b\n",
      "e\n",
      "r\n",
      "r\n",
      "y\n"
     ]
    }
   ],
   "source": [
    "## go through a string\n",
    "for x in \"strawberry\":\n",
    "    print(x)"
   ]
  },
  {
   "cell_type": "code",
   "execution_count": 128,
   "id": "39847eb5-a2c1-4848-8ad3-04b531f8a8f1",
   "metadata": {},
   "outputs": [
    {
     "name": "stdout",
     "output_type": "stream",
     "text": [
      "0\n",
      "1\n",
      "2\n",
      "3\n",
      "4\n",
      "5\n",
      "6\n",
      "7\n"
     ]
    }
   ],
   "source": [
    "## go through a range\n",
    "for i in range(8): # The range() function starting from 0,increments by 1, and ends at a specified number.\n",
    "    print(i)"
   ]
  },
  {
   "cell_type": "code",
   "execution_count": 130,
   "id": "f520e580-be36-4cbc-a4ef-e94e7e26460d",
   "metadata": {},
   "outputs": [
    {
     "name": "stdout",
     "output_type": "stream",
     "text": [
      "3\n",
      "4\n",
      "5\n",
      "6\n",
      "7\n"
     ]
    }
   ],
   "source": [
    "for i in range (3,8):\n",
    "    print(i)"
   ]
  },
  {
   "cell_type": "markdown",
   "id": "006dc9ea-1fd4-440c-b23a-098f76eaee16",
   "metadata": {
    "jp-MarkdownHeadingCollapsed": true
   },
   "source": [
    "## for loop deceleration"
   ]
  },
  {
   "cell_type": "code",
   "execution_count": 78,
   "id": "c7da30ed-f318-4419-aa13-22f4311e997d",
   "metadata": {},
   "outputs": [],
   "source": [
    "speed = 70\n",
    "for i in range(10):\n",
    "    speed = int(speed *0.9)\n",
    "    got.mecanum_move_speed(0, speed)\n",
    "    time.sleep(0.2)\n",
    "\n",
    "got.mecanum_stop()\n",
    "got.play_audio_tts(\"Mission completed.\")\n",
    "got.show_light_rgb_effect(0, 255,0,3)\n",
    "time.sleep(2)\n",
    "got.turn_off_lights()    "
   ]
  },
  {
   "cell_type": "code",
   "execution_count": null,
   "id": "26b355ad-f824-4511-81dd-d9a56da9584a",
   "metadata": {},
   "outputs": [],
   "source": []
  },
  {
   "cell_type": "code",
   "execution_count": null,
   "id": "6a2b8af2-a976-4e62-a802-a24566c82b28",
   "metadata": {},
   "outputs": [],
   "source": []
  },
  {
   "cell_type": "markdown",
   "id": "904d687a-9586-4182-b91b-86efe64681f9",
   "metadata": {
    "jp-MarkdownHeadingCollapsed": true
   },
   "source": [
    "## Square drawing"
   ]
  },
  {
   "cell_type": "code",
   "execution_count": 149,
   "id": "dc3f37b2-7753-42a9-84b6-a9cac3dfeb39",
   "metadata": {},
   "outputs": [],
   "source": [
    "# regular square drawing\n",
    "got.mecanum_move_speed_times(0, 30, 60,1)\n",
    "time.sleep(1)\n",
    "got.mecanum_turn_speed_times(3,30,90,2)\n",
    "got.mecanum_move_speed_times(0, 30, 60,1)\n",
    "time.sleep(1)\n",
    "got.mecanum_turn_speed_times(3,30,90,2)\n",
    "got.mecanum_move_speed_times(0, 30, 60,1)\n",
    "time.sleep(1)\n",
    "got.mecanum_turn_speed_times(3,30,90,2)\n",
    "got.mecanum_move_speed_times(0, 30, 60,1)\n",
    "time.sleep(1)\n",
    "got.mecanum_turn_speed_times(3,30,90,2)\n"
   ]
  },
  {
   "cell_type": "code",
   "execution_count": 156,
   "id": "df8e886b-0a7c-440d-811f-3261b6695320",
   "metadata": {},
   "outputs": [],
   "source": [
    "# using for loop\n",
    "for i in range(4):\n",
    "    got.mecanum_move_speed_times(0, 30, 60,1)\n",
    "    time.sleep(1)\n",
    "    got.mecanum_turn_speed_times(3,30,90,2)\n",
    "got.play_audio_tts(\"Mission completed.\")\n",
    "got.show_light_rgb_effect(0, 225,0,3)\n",
    "time.sleep(2)\n",
    "got.turn_off_lights()"
   ]
  },
  {
   "cell_type": "markdown",
   "id": "8a032f35-6117-4f84-a94b-a06223a601f1",
   "metadata": {
    "jp-MarkdownHeadingCollapsed": true
   },
   "source": [
    "## multilateral polygon"
   ]
  },
  {
   "cell_type": "code",
   "execution_count": 169,
   "id": "26a78656-d5c8-41fc-a7d8-f2d9dc8892ab",
   "metadata": {},
   "outputs": [
    {
     "name": "stdout",
     "output_type": "stream",
     "text": [
      "sides =  8\n",
      "degrees =  45\n"
     ]
    }
   ],
   "source": [
    "\n",
    "import random\n",
    "import time\n",
    "\n",
    "sides = random.randint(3,10)\n",
    "degrees = int(360/sides)  # Ensure it's an integer\n",
    "\n",
    "\n",
    "for i in range(sides):\n",
    "    got.mecanum_move_speed_times(0, 30, 60,1)\n",
    "    time.sleep(1)\n",
    "    got.mecanum_turn_speed_times(3,30,degrees,2)\n",
    "    \n",
    "print(\"sides = \",sides)\n",
    "print(\"degrees = \",degrees)\n",
    "got.play_audio_tts(\"Mission completed.\")\n",
    "got.show_light_rgb_effect(0, 225,0,3)\n",
    "time.sleep(2)\n",
    "got.turn_off_lights()"
   ]
  },
  {
   "cell_type": "markdown",
   "id": "0b5d80bb-2865-40f6-9439-4109b74f2405",
   "metadata": {
    "jp-MarkdownHeadingCollapsed": true
   },
   "source": [
    "## multilateral polygon with random"
   ]
  },
  {
   "cell_type": "code",
   "execution_count": 178,
   "id": "7b3c8408-e652-42ff-bb1e-829e100ce5f4",
   "metadata": {},
   "outputs": [
    {
     "name": "stdout",
     "output_type": "stream",
     "text": [
      "Speed =  13\n",
      "Distacne =  75\n",
      "Direction =  0\n",
      "Turn =  2\n",
      "Degree =  133\n",
      "sides =  3\n",
      "degrees =  120\n"
     ]
    }
   ],
   "source": [
    "## got.mecanum_move_speed_times(direction, speed, times, unit)\n",
    "## random, inter and operators\n",
    "## print values\n",
    "import random\n",
    "import time\n",
    "\n",
    "x = 5\n",
    "y= 10\n",
    "sides = random.randint(3,10)\n",
    "degrees = int(360/sides)  # Ensure it's an integer\n",
    "speed = random.randint(x+5,y+10)\n",
    "distance = random.randint(x*12,y*10)\n",
    "direction = random.randint(0,1)\n",
    "turn = random.randint(2,3)\n",
    "degree = random.randint(5*18,10*18)\n",
    "\n",
    "print(\"Speed = \", speed )\n",
    "print(\"Distacne = \", distance )\n",
    "print(\"Direction = \", direction )\n",
    "print(\"Turn = \", turn)\n",
    "print(\"Degree = \", degree )\n",
    "print(\"sides = \",sides)\n",
    "print(\"degrees = \",degrees)\n",
    "\n",
    "for i in range(sides):\n",
    "    got.mecanum_move_speed_times(direction,speed,distance,1)\n",
    "    time.sleep(1)\n",
    "    got.mecanum_turn_speed_times(turn,30,degrees,2)\n",
    "\n",
    "got.play_audio_tts(\"Mission completed.\")\n",
    "got.show_light_rgb_effect(0, 225,0,3)\n",
    "time.sleep(2)\n",
    "got.turn_off_lights()\n"
   ]
  },
  {
   "cell_type": "code",
   "execution_count": null,
   "id": "c094e7c6-10b1-41b2-8eff-7b00df4238e9",
   "metadata": {},
   "outputs": [],
   "source": []
  },
  {
   "cell_type": "code",
   "execution_count": null,
   "id": "336555d6-01cc-4fb2-8b59-fe22f421505f",
   "metadata": {},
   "outputs": [],
   "source": []
  },
  {
   "cell_type": "code",
   "execution_count": null,
   "id": "5fa2b5f3-7d19-4ea8-8096-cfeaa34b3172",
   "metadata": {},
   "outputs": [],
   "source": []
  },
  {
   "cell_type": "code",
   "execution_count": null,
   "id": "8d95da82-ae4f-498f-b783-213bba22247f",
   "metadata": {},
   "outputs": [],
   "source": []
  },
  {
   "cell_type": "markdown",
   "id": "a3af3884-28c4-4b2f-aae0-920393423655",
   "metadata": {},
   "source": [
    "## Session 3"
   ]
  },
  {
   "cell_type": "markdown",
   "id": "2be7574b-8919-4f92-a399-587856a677d9",
   "metadata": {
    "jp-MarkdownHeadingCollapsed": true
   },
   "source": [
    "## While loop"
   ]
  },
  {
   "cell_type": "code",
   "execution_count": 190,
   "id": "fe596799-a32e-4f82-8021-3f643292a8b6",
   "metadata": {},
   "outputs": [
    {
     "name": "stdout",
     "output_type": "stream",
     "text": [
      "The value of i is:  0\n",
      "The value of i is:  1\n",
      "The value of i is:  2\n",
      "The value of i is:  3\n",
      "The value of i is:  4\n",
      "The value of i is:  5\n",
      "The value of i is:  6\n",
      "The value of i is:  7\n"
     ]
    }
   ],
   "source": [
    "i = 0\n",
    "while i < 8:\n",
    "    print (\"The value of i is: \",i)\n",
    "    i += 1\n",
    "    "
   ]
  },
  {
   "cell_type": "code",
   "execution_count": 6,
   "id": "5b7885fd-08db-4640-800c-cc240eda613d",
   "metadata": {},
   "outputs": [
    {
     "name": "stdout",
     "output_type": "stream",
     "text": [
      "The vallue of i is:  0\n",
      "The vallue of i is:  1\n",
      "The vallue of i is:  2\n",
      "The vallue of i is:  3\n",
      "The vallue of i is:  4\n",
      "The vallue of i is:  5\n",
      "The vallue of i is:  6\n",
      "The vallue of i is:  7\n",
      "The vallue of i is:  8\n"
     ]
    }
   ],
   "source": [
    "## break statement \n",
    "i = 0\n",
    "while i < 10:\n",
    "    print (\"The vallue of i is: \",i)\n",
    "    if i == 8:\n",
    "     break\n",
    "    i += 1"
   ]
  },
  {
   "cell_type": "code",
   "execution_count": 196,
   "id": "13115bf6-1d22-42bb-a435-ee2790482822",
   "metadata": {},
   "outputs": [
    {
     "name": "stdout",
     "output_type": "stream",
     "text": [
      "Program completed.\n"
     ]
    }
   ],
   "source": [
    "Total_sides = 5\n",
    "side = 0\n",
    "\n",
    "while side < Total_sides:\n",
    "    got.mecanum_move_speed_times(0,30,90,1)\n",
    "    time.sleep(2)\n",
    "    got.mecanum_turn_speed_times(2,30,180,2)\n",
    "    time.sleep(2)\n",
    "    if side == 5:\n",
    "      break\n",
    "    side += 1\n",
    "time.sleep(0.5)\n",
    "print(\"Program completed.\")\n"
   ]
  },
  {
   "cell_type": "code",
   "execution_count": null,
   "id": "9f0fa3b8-9780-482d-b3e6-a1ec8cb483c8",
   "metadata": {},
   "outputs": [],
   "source": []
  },
  {
   "cell_type": "code",
   "execution_count": null,
   "id": "eeb69d77-808a-4cab-880d-c212c6b0f4de",
   "metadata": {},
   "outputs": [],
   "source": []
  },
  {
   "cell_type": "markdown",
   "id": "49793146-9ff6-4476-93cc-616e69c7b113",
   "metadata": {},
   "source": [
    "## IR ID and value check"
   ]
  },
  {
   "cell_type": "code",
   "execution_count": 13,
   "id": "508210ed-98fe-44f7-aef1-d933bc75420c",
   "metadata": {},
   "outputs": [
    {
     "name": "stdout",
     "output_type": "stream",
     "text": [
      "The IR sensor ID is: 21\n",
      "Distance: 99.5cm\n",
      "The IR sensor ID is: 21\n",
      "Distance: 99.9cm\n",
      "The IR sensor ID is: 21\n",
      "Distance: 99.3cm\n",
      "The IR sensor ID is: 21\n",
      "Distance: 99.9cm\n",
      "The IR sensor ID is: 21\n",
      "Distance: 99.6cm\n",
      "The IR sensor ID is: 21\n",
      "Distance: 100.0cm\n",
      "The IR sensor ID is: 21\n",
      "Distance: 99.7cm\n",
      "The IR sensor ID is: 21\n",
      "Distance: 99.7cm\n",
      "The IR sensor ID is: 21\n",
      "Distance: 99.8cm\n",
      "The IR sensor ID is: 21\n",
      "Distance: 99.5cm\n",
      "Program finished.\n"
     ]
    }
   ],
   "source": [
    "max_test_times = 10\n",
    "test_time = 0\n",
    "\n",
    "while test_time < max_test_times:\n",
    "    for id in range(20, 60):  # Distance sensors typically have IDs in this range\n",
    "        distance = got.read_distance_data(id)\n",
    "        if distance > 0:  # If we get a valid reading\n",
    "            print(\"The IR sensor ID is: \" + str(id))\n",
    "            print(\"Distance: \" + str(distance) + \"cm\")\n",
    "            test_time += 1\n",
    "            time.sleep(0.5)\n",
    "        \n",
    "time.sleep(1)\n",
    "print(\"Program finished.\")"
   ]
  },
  {
   "cell_type": "markdown",
   "id": "70d47f12-ff1b-44a1-b3d0-f180926c384f",
   "metadata": {},
   "source": [
    "## while loop with IR sensor"
   ]
  },
  {
   "cell_type": "code",
   "execution_count": null,
   "id": "54997395-3fa1-49bb-a780-5f52c5e178b9",
   "metadata": {},
   "outputs": [],
   "source": []
  },
  {
   "cell_type": "code",
   "execution_count": null,
   "id": "d01b47fe-1f0f-4b67-bd5d-698aa5c07bec",
   "metadata": {},
   "outputs": [],
   "source": []
  },
  {
   "cell_type": "code",
   "execution_count": 25,
   "id": "284ff843-dd86-458f-835e-39a58920f091",
   "metadata": {},
   "outputs": [],
   "source": [
    "# how to use while...true...\n",
    "while True:\n",
    "    got.mecanum_move_speed(0,20)\n",
    "    distance = got.read_distance_data(21)\n",
    "\n",
    "    if distance < 20:\n",
    "        got.mecanum_stop()\n",
    "        got.play_audio_tts(\"Obstacle detected.\")\n",
    "        break\n",
    "        \n",
    "time.sleep(0.2)"
   ]
  },
  {
   "cell_type": "code",
   "execution_count": 37,
   "id": "9c7b1714-7a72-4bde-9eae-f701e1681775",
   "metadata": {},
   "outputs": [],
   "source": [
    "# how to use while...condtitions...\n",
    "distance = got.read_distance_data(21)  # have to assign this command before while loop,otherwise it won't run.\n",
    "while distance > 20:\n",
    "    got.mecanum_move_speed(0,20)\n",
    "    distance = got.read_distance_data(21)\n",
    "    # do not use break command here.\n",
    "\n",
    "got.mecanum_stop()\n",
    "got.play_audio_tts(\"Obstacle detected.\")\n",
    "time.sleep(0.2)"
   ]
  },
  {
   "cell_type": "code",
   "execution_count": null,
   "id": "e043fa1a-3711-4727-aa84-4e2373dc7521",
   "metadata": {},
   "outputs": [],
   "source": []
  },
  {
   "cell_type": "code",
   "execution_count": null,
   "id": "9fdee254-3886-4c81-b85f-5cca9bbe35b1",
   "metadata": {},
   "outputs": [],
   "source": []
  },
  {
   "cell_type": "markdown",
   "id": "2629c71b-e467-49ec-96a6-2c93776129ad",
   "metadata": {},
   "source": [
    "## IR sensor maze program: forward, right,right,left,stop."
   ]
  },
  {
   "cell_type": "code",
   "execution_count": 126,
   "id": "40687082-4342-4ba0-b195-86a293e7c227",
   "metadata": {},
   "outputs": [],
   "source": [
    "import time \n",
    "\n",
    "distance = got.read_distance_data(21)\n",
    "while distance > 20:\n",
    "    got.mecanum_move_speed(0,20)\n",
    "    distance = got.read_distance_data(21)\n",
    "    time.sleep(0.1)\n",
    "got.mecanum_stop()\n",
    "got.play_audio_tts(\"Obstacle detected.\") \n",
    "time.sleep(1)\n",
    "got.mecanum_turn_speed_times(3,30,90,2)\n",
    "\n",
    "\n",
    "distance = got.read_distance_data(21)\n",
    "while distance > 20:\n",
    "    got.mecanum_move_speed(0,20)\n",
    "    distance = got.read_distance_data(21)\n",
    "    time.sleep(0.1)\n",
    "got.mecanum_stop()\n",
    "got.play_audio_tts(\"Obstacle detected.\") \n",
    "time.sleep(1)\n",
    "got.mecanum_turn_speed_times(3,30,90,2)\n",
    "\n",
    "distance = got.read_distance_data(21)\n",
    "while distance > 20:\n",
    "    got.mecanum_move_speed(0,20)\n",
    "    distance = got.read_distance_data(21)\n",
    "    time.sleep(0.1)\n",
    "got.mecanum_stop()\n",
    "got.play_audio_tts(\"Obstacle detected.\") \n",
    "time.sleep(1)\n",
    "got.mecanum_turn_speed_times(2,30,90,2)\n",
    "\n",
    "\n",
    "distance = got.read_distance_data(21)\n",
    "while distance > 20:\n",
    "    got.mecanum_move_speed(0,20)\n",
    "    distance = got.read_distance_data(21)\n",
    "    time.sleep(0.1)\n",
    "got.mecanum_stop()\n",
    "got.play_audio_tts(\"Obstacle detected.\") \n"
   ]
  },
  {
   "cell_type": "markdown",
   "id": "88c12396-2ac5-4fa0-8333-d092dca7be8e",
   "metadata": {
    "jp-MarkdownHeadingCollapsed": true
   },
   "source": [
    "## deceleration according to the IR value"
   ]
  },
  {
   "cell_type": "code",
   "execution_count": 18,
   "id": "4961143d-59e0-4b9b-8ef2-d38ce7ae71f1",
   "metadata": {},
   "outputs": [],
   "source": [
    "\n",
    "safe_distance = 10\n",
    "max_speed = 50\n",
    "current_distance = got.read_distance_data(21)  # check the IR value first\n",
    "\n",
    "while True:\n",
    "    current_distance = got.read_distance_data(21)  # constantly check the current distance\n",
    "    if current_distance < safe_distance:\n",
    "        got.mecanum_stop()\n",
    "        got.show_light_rgb_effect(255,0,0,0)  # red LED\n",
    "        got.play_audio_tts(\"It is too close to the obstacle!\")\n",
    "        time.sleep(2)\n",
    "        got.turn_off_lights()        \n",
    "        break  # exit the loop completely\n",
    "    else:\n",
    "        speed = int(current_distance)  # set the vehicle speed based on the IR sensor value.Attentation! The current distance has to be corverted into Int!! \n",
    "        if speed > max_speed:  # make sure the current speed is not greater than max_speed\n",
    "            speed = max_speed\n",
    "        got.mecanum_move_speed(0, speed)  # keep driving forward\n",
    "        got.show_light_rgb_effect(0,255,0,0)  # Green light for driving\n",
    "        time.sleep(0.1)"
   ]
  },
  {
   "cell_type": "code",
   "execution_count": null,
   "id": "627fb54f-6e69-4423-bbd4-a7e39d4c2f43",
   "metadata": {},
   "outputs": [],
   "source": []
  },
  {
   "cell_type": "code",
   "execution_count": null,
   "id": "1995d73d-3da4-493e-8789-5f979a268009",
   "metadata": {},
   "outputs": [],
   "source": []
  },
  {
   "cell_type": "markdown",
   "id": "b21e8e82-1705-4c5d-827c-6a9f91654d3f",
   "metadata": {
    "jp-MarkdownHeadingCollapsed": true
   },
   "source": [
    "## Def function"
   ]
  },
  {
   "cell_type": "code",
   "execution_count": 130,
   "id": "c0d2930b-09c2-4a62-8ef2-93e642c4cc07",
   "metadata": {},
   "outputs": [],
   "source": [
    "import time \n",
    "\n",
    "def move_and_detect():\n",
    "    distance = got.read_distance_data(21)\n",
    "    while distance > 20:\n",
    "        got.mecanum_move_speed(0,20)\n",
    "        distance = got.read_distance_data(21)\n",
    "        time.sleep(0.1)\n",
    "    got.mecanum_stop()\n",
    "    got.play_audio_tts(\"Obstacle detected.\") \n",
    "    time.sleep(1)\n",
    "\n",
    "move_and_detect()  ## becareful with the ().\n",
    "got.mecanum_turn_speed_times(3,30,90,2)\n",
    "\n",
    "\n",
    "move_and_detect()\n",
    "got.mecanum_turn_speed_times(3,30,90,2)\n",
    "\n",
    "move_and_detect()\n",
    "got.mecanum_turn_speed_times(2,30,90,2)\n",
    "\n",
    "move_and_detect()\n"
   ]
  },
  {
   "cell_type": "code",
   "execution_count": null,
   "id": "3bab7d1d-cdc8-4499-8516-4ee55f1e189c",
   "metadata": {},
   "outputs": [],
   "source": []
  },
  {
   "cell_type": "code",
   "execution_count": null,
   "id": "9bc926c7-8f94-4c32-b613-7610faf7fecd",
   "metadata": {},
   "outputs": [],
   "source": []
  },
  {
   "cell_type": "markdown",
   "id": "64d60bf4-583e-49b0-afd7-b2d0ba4aec23",
   "metadata": {
    "jp-MarkdownHeadingCollapsed": true
   },
   "source": [
    "## def function explanation"
   ]
  },
  {
   "cell_type": "code",
   "execution_count": 74,
   "id": "7870938b-96c2-4a24-a3c4-89db58954070",
   "metadata": {},
   "outputs": [],
   "source": [
    "## empty parentheses () the function takes no parameters (no inputs) and the program included will not change.\n",
    "\n",
    "def forward_turn():\n",
    "    got.mecanum_move_speed_times(0,20,100,1)\n",
    "    got.mecanum_turn_speed_times(2,30,90,2)\n",
    "\n",
    "for i in range(4):\n",
    "    forward_turn()"
   ]
  },
  {
   "cell_type": "code",
   "execution_count": 80,
   "id": "1d6715d0-aedf-4a2a-accc-4b3946c75c2c",
   "metadata": {},
   "outputs": [],
   "source": [
    "# def function with parameters and arguments, we can name a new function and contains two UGOT commands.\n",
    "\n",
    "def forward_turn(md,ms,mt,mu,td,ts,tt,tu):\n",
    "    got.mecanum_move_speed_times(md,ms,mt,mu) # first, move forward\n",
    "    # md = moving_direction; ms = moving_speed; mt =  moving_times;mu = moving_unit\n",
    "    got.mecanum_turn_speed_times(td,ts,tt,tu) # second, take a turn\n",
    "    # td = turn direction; ts = turn speed; tt = turn times, tu = turn unit.\n",
    "\n",
    "# call the function 4 times with the same arguments.\n",
    "for i in range (4):\n",
    "    forward_turn(0,30,60,1,2,30,90,2)\n"
   ]
  },
  {
   "cell_type": "code",
   "execution_count": null,
   "id": "59ae491f-2ecf-42c4-beb0-ab98f611b9bb",
   "metadata": {},
   "outputs": [],
   "source": []
  },
  {
   "cell_type": "markdown",
   "id": "fb86c80b-8271-4b1b-9cbf-626aeb92cf03",
   "metadata": {
    "jp-MarkdownHeadingCollapsed": true
   },
   "source": [
    "## Session 4"
   ]
  },
  {
   "cell_type": "code",
   "execution_count": null,
   "id": "0bee9160-7e87-4de8-8bf3-34c6a996869c",
   "metadata": {},
   "outputs": [],
   "source": []
  },
  {
   "cell_type": "markdown",
   "id": "95fdad86-91d7-46f4-add4-3129f315a4dd",
   "metadata": {},
   "source": [
    "maze escape program"
   ]
  },
  {
   "cell_type": "markdown",
   "id": "3b4f2b94-b672-467b-b56b-08c4be1eb660",
   "metadata": {
    "jp-MarkdownHeadingCollapsed": true
   },
   "source": [
    "## if...elif...else"
   ]
  },
  {
   "cell_type": "code",
   "execution_count": 58,
   "id": "e30b671f-9926-461f-9b5e-b69e26940442",
   "metadata": {},
   "outputs": [
    {
     "name": "stdout",
     "output_type": "stream",
     "text": [
      "x > y\n"
     ]
    }
   ],
   "source": [
    "## if...\n",
    "\n",
    "x = 100\n",
    "y = 50\n",
    "if x > y:\n",
    "    print(\"x > y\")"
   ]
  },
  {
   "cell_type": "code",
   "execution_count": 60,
   "id": "87438d6b-4286-41c8-8dc2-8079671a2d5b",
   "metadata": {},
   "outputs": [
    {
     "name": "stdout",
     "output_type": "stream",
     "text": [
      "a and b are equal\n"
     ]
    }
   ],
   "source": [
    "## if...else...\n",
    "\n",
    "a = 100\n",
    "b = 100\n",
    "if a > b:\n",
    "  print(\"a is greater than b\")\n",
    "elif a == b:\n",
    "  print(\"a and b are equal\")"
   ]
  },
  {
   "cell_type": "code",
   "execution_count": 62,
   "id": "41a1f1b7-8de1-4150-8ffa-6315facd1604",
   "metadata": {},
   "outputs": [
    {
     "ename": "IndentationError",
     "evalue": "expected an indented block after 'if' statement on line 3 (2482617312.py, line 4)",
     "output_type": "error",
     "traceback": [
      "\u001b[0;36m  Cell \u001b[0;32mIn[62], line 4\u001b[0;36m\u001b[0m\n\u001b[0;31m    print(\"x > y\")\u001b[0m\n\u001b[0m    ^\u001b[0m\n\u001b[0;31mIndentationError\u001b[0m\u001b[0;31m:\u001b[0m expected an indented block after 'if' statement on line 3\n"
     ]
    }
   ],
   "source": [
    "## indentation error\n",
    "\n",
    "x = 100\n",
    "y = 50\n",
    "if x > y:\n",
    "print(\"x > y\") ## indentation error"
   ]
  },
  {
   "cell_type": "code",
   "execution_count": 135,
   "id": "547895d3-9a3b-4b03-a2d7-84185da3b20a",
   "metadata": {},
   "outputs": [
    {
     "name": "stdout",
     "output_type": "stream",
     "text": [
      "a is greater than b\n"
     ]
    }
   ],
   "source": [
    "## if...elif...else...\n",
    "\n",
    "a = 100\n",
    "b = 50\n",
    "if a > b:\n",
    "  print(\"a is greater than b\")\n",
    "elif a == b:\n",
    "  print(\"a and b are equal\")\n",
    "else:\n",
    "  print(\"a is less than b\")"
   ]
  },
  {
   "cell_type": "code",
   "execution_count": null,
   "id": "1a169fcc-16a6-45dd-974c-32c030ed0bb1",
   "metadata": {},
   "outputs": [],
   "source": []
  },
  {
   "cell_type": "markdown",
   "id": "dc77476c-e84a-4ca3-8ca8-0be38628e752",
   "metadata": {
    "jp-MarkdownHeadingCollapsed": true
   },
   "source": [
    "## reserved words\n",
    "and, or, not"
   ]
  },
  {
   "cell_type": "code",
   "execution_count": 65,
   "id": "7070d401-e949-4ea9-b922-3eee82a51cd3",
   "metadata": {},
   "outputs": [
    {
     "name": "stdout",
     "output_type": "stream",
     "text": [
      "Both conditions are True\n",
      "At least one of the conditions is True\n",
      "a is not less than b.\n"
     ]
    }
   ],
   "source": [
    "## and\n",
    "a = 100\n",
    "b = 50\n",
    "c = 200\n",
    "if a > b and c > a:\n",
    "  print(\"Both conditions are True\")\n",
    "\n",
    "## or\n",
    "a = 100\n",
    "b = 50\n",
    "c = 200\n",
    "if a > b or a > c:\n",
    "  print(\"At least one of the conditions is True\")\n",
    "\n",
    "## not\n",
    "a = 100\n",
    "b = 50\n",
    "if not a < b:\n",
    "    print (\"a is not less than b.\")"
   ]
  },
  {
   "cell_type": "code",
   "execution_count": 173,
   "id": "a1c0e209-b1eb-403b-a030-45cef0236f3f",
   "metadata": {},
   "outputs": [
    {
     "name": "stdout",
     "output_type": "stream",
     "text": [
      "It is arleady 9 pm\n",
      "It's too late!\n"
     ]
    }
   ],
   "source": [
    "import random\n",
    "import time\n",
    "\n",
    "opening_time = 7\n",
    "closing_time = 20\n",
    "arriving_time = random.randint(1,24)\n",
    "\n",
    "if arriving_time < opening_time:\n",
    "    print(\"It is just \"+ str(arriving_time)+ \" am\")\n",
    "    print(\"It's too early\")\n",
    "elif arriving_time< opening_time and arriving_time > closing_time:\n",
    "    print(\"Come in please!\")\n",
    "else:\n",
    "    print(\"It is arleady \"+ str(arriving_time)+ \" pm\")\n",
    "    print(\"It's too late!\")\n",
    "    "
   ]
  },
  {
   "cell_type": "code",
   "execution_count": 193,
   "id": "df37c49c-c87e-4c06-814d-2e9ce15871a6",
   "metadata": {},
   "outputs": [],
   "source": [
    "## how to use while True and break command to drive the vehicle forward until the IR sensor detected the obstacles.\n",
    "\n",
    "import time\n",
    "\n",
    "safe_distance = 30\n",
    "\n",
    "while True:   ## this command is for an infinite loop.\n",
    "    current_distance = got.read_distance_data(51)  ## check the IR sensor value continuously. \n",
    "\n",
    "    if current_distance > safe_distance:\n",
    "       got.mecanum_move_speed(0,20)\n",
    "       got.show_light_rgb_effect(0,225,0,3)\n",
    "    else:\n",
    "        got.mecanum_stop()\n",
    "        time.sleep(0.5)\n",
    "        got.show_light_rgb_effect(225,0,0,3)\n",
    "        time.sleep(1)\n",
    "        got.play_audio_tts(\"Obstacle detected.\") \n",
    "        time.sleep(2)\n",
    "        break  ## use break command to finish the infinite loop. \n",
    "        \n",
    "got.play_audio_tts(\"Program finished.\")\n",
    "got.turn_off_lights()\n"
   ]
  },
  {
   "cell_type": "code",
   "execution_count": null,
   "id": "60accfb7-7b1e-4c27-917c-6a275e656610",
   "metadata": {},
   "outputs": [],
   "source": []
  },
  {
   "cell_type": "code",
   "execution_count": null,
   "id": "59599a16-680c-4ada-9d80-3ea30d082c28",
   "metadata": {},
   "outputs": [],
   "source": []
  },
  {
   "cell_type": "code",
   "execution_count": null,
   "id": "ba77ca8e-5fdd-4396-86bd-1b3baa4a8dce",
   "metadata": {},
   "outputs": [],
   "source": []
  },
  {
   "cell_type": "code",
   "execution_count": null,
   "id": "fa577f39-1c8d-4223-9829-f8b8e80c605d",
   "metadata": {},
   "outputs": [],
   "source": []
  },
  {
   "cell_type": "markdown",
   "id": "103b136e-feb0-4ded-bfd6-31b7f07c1f97",
   "metadata": {
    "jp-MarkdownHeadingCollapsed": true
   },
   "source": [
    "## Mecanum wheel vehicle-square drive"
   ]
  },
  {
   "cell_type": "code",
   "execution_count": 37,
   "id": "17f0045c-afea-4d2d-a088-da0653069146",
   "metadata": {},
   "outputs": [
    {
     "name": "stdout",
     "output_type": "stream",
     "text": [
      "192.168.1.235:50051\n"
     ]
    }
   ],
   "source": [
    "from ugot import ugot\n",
    "import time\n",
    "\n",
    "got = ugot.UGOT()\n",
    "\n",
    "got.initialize('192.168.1.235')\n",
    "got.play_audio_tts(\"Hello coder,let's start programming.\")"
   ]
  },
  {
   "cell_type": "code",
   "execution_count": null,
   "id": "2a24434a-310e-47ae-a509-e830c8ed31a9",
   "metadata": {},
   "outputs": [],
   "source": [
    "SIDE_LENGTH = 60   # Length of square side in cm\n",
    "MOVE_SPEED = 30    # Forward speed in cm/s\n",
    "TURN_SPEED = 60    # Turning speed in degrees/s\n",
    "PAUSE_TIME = 0.5   # Pause between movements in seconds\n",
    "\n",
    "try:\n",
    "    print(\"Starting to draw a square...\")\n",
    "    \n",
    "    # Draw all four sides of the square\n",
    "    for i in range(4):\n",
    "        print(f\"Drawing side {i+1}\")\n",
    "        \n",
    "        # Move forward for one side length\n",
    "        got.mecanum_move_speed_times(0, MOVE_SPEED, SIDE_LENGTH, 1)  # 1 means distance in cm\n",
    "        time.sleep(PAUSE_TIME)\n",
    "        \n",
    "        # Turn 90 degrees left\n",
    "        got.mecanum_turn_speed_times(2, TURN_SPEED, 90, 2)  # 2 means angle in degrees\n",
    "        time.sleep(PAUSE_TIME)\n",
    "    \n",
    "    print(\"Square complete!\")\n",
    "\n",
    "except Exception as e:\n",
    "    print(f\"An error occurred: {e}\")\n",
    "finally:\n",
    "    # Make sure to stop the robot\n",
    "    got.mecanum_stop()"
   ]
  },
  {
   "cell_type": "markdown",
   "id": "7dd9a58b-5ed4-420a-be44-e7d4487ecf97",
   "metadata": {
    "jp-MarkdownHeadingCollapsed": true
   },
   "source": [
    "## Sound and LED"
   ]
  },
  {
   "cell_type": "code",
   "execution_count": null,
   "id": "0d66a753-9b7f-4de3-98ab-d28a65fd8d4d",
   "metadata": {},
   "outputs": [],
   "source": [
    "def light_and_sound_show():\n",
    "    # Play a sound effect first\n",
    "    got.play_sound(\"robot\", True)  # True means wait for sound to finish\n",
    "    \n",
    "    # Change LED lights to red\n",
    "    got.show_light_rgb_effect(255, 0, 0, 0)  # RGB values: (255,0,0) for red, 0 for steady effect\n",
    "    time.sleep(1)  # Wait for 1 second\n",
    "    \n",
    "    # Play another sound effect\n",
    "    got.play_sound(\"complete\", True)\n",
    "    \n",
    "    # Change LED lights to green\n",
    "    got.show_light_rgb_effect(0, 255, 0, 0)  # RGB values: (0,255,0) for green\n",
    "    time.sleep(1)\n",
    "    \n",
    "    # Play a different sound effect\n",
    "    got.play_sound(\"received\", True)\n",
    "    \n",
    "    # Change LED lights to blue\n",
    "    got.show_light_rgb_effect(0, 0, 255, 0)  # RGB values: (0,0,255) for blue\n",
    "    time.sleep(1)\n",
    "    \n",
    "    # Turn off the lights\n",
    "    got.turn_off_lights()\n",
    "\n",
    "# Run the light and sound show\n",
    "try:\n",
    "    light_and_sound_show()\n",
    "except Exception as e:\n",
    "    print(f\"An error occurred: {e}\")"
   ]
  },
  {
   "cell_type": "markdown",
   "id": "1a1d2dcc-52ee-4473-8672-9656365d44eb",
   "metadata": {
    "jp-MarkdownHeadingCollapsed": true
   },
   "source": [
    "## Quize Game"
   ]
  },
  {
   "cell_type": "code",
   "execution_count": null,
   "id": "99cc246b-cbad-400a-86b8-c107e3854f72",
   "metadata": {},
   "outputs": [],
   "source": [
    "def quiz_game():\n",
    "    # Welcome message\n",
    "    welcome_msg = \"Hello! Let's play a quiz game!\"\n",
    "    got.play_audio_tts(welcome_msg, wait=True)  # Robot speaks\n",
    "    got.screen_print_text(welcome_msg, color=1)  # Display on screen (color 1 is white)\n",
    "    time.sleep(2)\n",
    "    got.screen_clear()  # Clear the screen\n",
    "\n",
    "    # Get student's name\n",
    "    got.play_audio_tts(\"What is your name?\", wait=True)\n",
    "    got.screen_print_text(\"What is your name?\", color=1)\n",
    "    student_name = input(\"Enter your name: \")\n",
    "    \n",
    "    # Greet the student\n",
    "    greeting = f\"Nice to meet you, {student_name}! Let's start the quiz!\"\n",
    "    got.play_audio_tts(greeting, wait=True)\n",
    "    got.screen_clear()\n",
    "    got.screen_print_text(greeting, color=1)\n",
    "    time.sleep(2)\n",
    "    \n",
    "    # Quiz questions\n",
    "    questions = [\n",
    "        {\n",
    "            \"question\": \"What is 2 plus 2?\",\n",
    "            \"answer\": \"4\"\n",
    "        },\n",
    "        {\n",
    "            \"question\": \"What planet do we live on?\",\n",
    "            \"answer\": \"earth\"\n",
    "        },\n",
    "        {\n",
    "            \"question\": \"How many legs does a cat have?\",\n",
    "            \"answer\": \"4\"\n",
    "        }\n",
    "    ]\n",
    "    \n",
    "    score = 0\n",
    "    \n",
    "    # Ask each question\n",
    "    for i, q in enumerate(questions, 1):\n",
    "        # Clear screen and show question number\n",
    "        got.screen_clear()\n",
    "        question_num = f\"Question {i}:\"\n",
    "        got.screen_print_text(question_num, color=2)  # Color 2 is purple\n",
    "        got.play_audio_tts(question_num, wait=True)\n",
    "        time.sleep(1)\n",
    "        \n",
    "        # Ask question\n",
    "        got.screen_print_text_newline(q[\"question\"], color=1)\n",
    "        got.play_audio_tts(q[\"question\"], wait=True)\n",
    "        \n",
    "        # Get student's answer\n",
    "        student_answer = input(\"Your answer: \").lower()\n",
    "        \n",
    "        # Check answer\n",
    "        if student_answer == q[\"answer\"].lower():\n",
    "            response = \"Correct! Well done!\"\n",
    "            score += 1\n",
    "            # Show happy light effect (green)\n",
    "            got.show_light_rgb_effect(0, 255, 0, 0)\n",
    "        else:\n",
    "            response = f\"Sorry, the correct answer is {q['answer']}.\"\n",
    "            # Show red light effect\n",
    "            got.show_light_rgb_effect(255, 0, 0, 0)\n",
    "            \n",
    "        # Display and speak response\n",
    "        got.screen_clear()\n",
    "        got.screen_print_text(response, color=1)\n",
    "        got.play_audio_tts(response, wait=True)\n",
    "        time.sleep(2)\n",
    "        got.turn_off_lights()\n",
    "    \n",
    "    # Final score\n",
    "    got.screen_clear()\n",
    "    final_message = f\"Quiz complete! {student_name}, you got {score} out of {len(questions)} correct!\"\n",
    "    got.screen_print_text(final_message, color=1)\n",
    "    got.play_audio_tts(final_message, wait=True)\n",
    "    \n",
    "    if score == len(questions):\n",
    "        celebration = \"Perfect score! Amazing job!\"\n",
    "        got.play_audio_tts(celebration, wait=True)\n",
    "        # Victory light show\n",
    "        for _ in range(3):\n",
    "            got.show_light_rgb_effect(0, 255, 0, 0)\n",
    "            time.sleep(0.5)\n",
    "            got.show_light_rgb_effect(0, 0, 255, 0)\n",
    "            time.sleep(0.5)\n",
    "    \n",
    "    got.turn_off_lights()\n",
    "\n",
    "# Run the quiz game with error handling\n",
    "try:\n",
    "    quiz_game()\n",
    "except Exception as e:\n",
    "    error_msg = \"Sorry, there was an error. Let's try again!\"\n",
    "    got.play_audio_tts(error_msg, wait=True)\n",
    "    got.screen_print_text(error_msg, color=1)\n",
    "    print(f\"Error: {e}\")"
   ]
  },
  {
   "cell_type": "markdown",
   "id": "099e1ef6-2b68-4ebc-bf65-0c3a05c063ae",
   "metadata": {
    "jp-MarkdownHeadingCollapsed": true
   },
   "source": [
    "## IR sensor utilization"
   ]
  },
  {
   "cell_type": "code",
   "execution_count": 39,
   "id": "745dd2eb-3e3e-4eb5-a3e2-d5d3c5fde3b8",
   "metadata": {},
   "outputs": [
    {
     "name": "stdout",
     "output_type": "stream",
     "text": [
      "Error reading sensor: <_InactiveRpcError of RPC that terminated with:\n",
      "\tstatus = StatusCode.UNAVAILABLE\n",
      "\tdetails = \"recvmsg:Operation timed out\"\n",
      "\tdebug_error_string = \"UNKNOWN:Error received from peer  {grpc_message:\"recvmsg:Operation timed out\", grpc_status:14, created_time:\"2025-03-17T11:54:03.746855+08:00\"}\"\n",
      ">\n",
      "Program ended\n"
     ]
    }
   ],
   "source": [
    "# define distance thresholds int cm\n",
    "Safe_distance = 25 \n",
    "\n",
    "try:\n",
    "    while True:\n",
    "        try:\n",
    "           distance = got.read_distance_data(51)\n",
    "           if distance == -1: # invalide reading\n",
    "              continue\n",
    "            \n",
    "           print(f\"Distance:{distance}cm\")\n",
    "           time.sleep(0.5)\n",
    "\n",
    "           if distance >= Safe_distance:\n",
    "              got.mecanum_move_speed(direction=0, speed= 20)\n",
    "           else:\n",
    "              got.mecanum_stop()\n",
    "              got.show_light_rgb([0,1,2,3],255,0,0)\n",
    "              got.play_audio_tts(\"Obstacle detected!\",0,False)\n",
    "              break\n",
    "               \n",
    "        except Exception as e:\n",
    "            print(f\"Error reading sensor: {e}\")\n",
    "            got.mecanum_stop()\n",
    "            break\n",
    "finally:\n",
    "    got.mecanum_stop()\n",
    "    got.turn_off_lights()\n",
    "    print(\"Program ended\")"
   ]
  },
  {
   "cell_type": "markdown",
   "id": "e48d808a-ae98-427b-9341-9a5a00b69735",
   "metadata": {
    "jp-MarkdownHeadingCollapsed": true
   },
   "source": [
    "## Mecanum robot maze escape"
   ]
  },
  {
   "cell_type": "code",
   "execution_count": 5,
   "id": "182b3cf9-67f7-4829-ae59-986cd56c61a6",
   "metadata": {
    "collapsed": true,
    "jupyter": {
     "outputs_hidden": true
    },
    "scrolled": true
   },
   "outputs": [
    {
     "ename": "KeyboardInterrupt",
     "evalue": "",
     "output_type": "error",
     "traceback": [
      "\u001b[0;31m---------------------------------------------------------------------------\u001b[0m",
      "\u001b[0;31mKeyboardInterrupt\u001b[0m                         Traceback (most recent call last)",
      "Cell \u001b[0;32mIn[5], line 9\u001b[0m\n\u001b[1;32m      5\u001b[0m     \u001b[38;5;28;01mreturn\u001b[39;00m distance \u001b[38;5;241m>\u001b[39m Safe_distance\n\u001b[1;32m      7\u001b[0m \u001b[38;5;28;01mwhile\u001b[39;00m \u001b[38;5;28;01mTrue\u001b[39;00m:\n\u001b[1;32m      8\u001b[0m     \u001b[38;5;66;03m# Move forward until obstacle detected\u001b[39;00m\n\u001b[0;32m----> 9\u001b[0m     \u001b[38;5;28;01mif\u001b[39;00m check_path():\n\u001b[1;32m     10\u001b[0m         got\u001b[38;5;241m.\u001b[39mmecanum_move_speed(direction\u001b[38;5;241m=\u001b[39m\u001b[38;5;241m0\u001b[39m, speed\u001b[38;5;241m=\u001b[39m\u001b[38;5;241m20\u001b[39m)\n\u001b[1;32m     11\u001b[0m     \u001b[38;5;28;01melse\u001b[39;00m:\n\u001b[1;32m     12\u001b[0m         \u001b[38;5;66;03m# Stop at obstacle\u001b[39;00m\n",
      "Cell \u001b[0;32mIn[5], line 4\u001b[0m, in \u001b[0;36mcheck_path\u001b[0;34m()\u001b[0m\n\u001b[1;32m      3\u001b[0m \u001b[38;5;28;01mdef\u001b[39;00m \u001b[38;5;21mcheck_path\u001b[39m():\n\u001b[0;32m----> 4\u001b[0m     distance \u001b[38;5;241m=\u001b[39m got\u001b[38;5;241m.\u001b[39mread_distance_data(\u001b[38;5;241m21\u001b[39m)\n\u001b[1;32m      5\u001b[0m     \u001b[38;5;28;01mreturn\u001b[39;00m distance \u001b[38;5;241m>\u001b[39m Safe_distance\n",
      "File \u001b[0;32m~/anaconda3/lib/python3.11/site-packages/ugot/ugot.py:3447\u001b[0m, in \u001b[0;36mUGOT.read_distance_data\u001b[0;34m(self, id)\u001b[0m\n\u001b[1;32m   3436\u001b[0m \u001b[38;5;250m\u001b[39m\u001b[38;5;124;03m\"\"\"\u001b[39;00m\n\u001b[1;32m   3437\u001b[0m \u001b[38;5;124;03mRead sensor data\u001b[39;00m\n\u001b[1;32m   3438\u001b[0m \n\u001b[0;32m   (...)\u001b[0m\n\u001b[1;32m   3443\u001b[0m \u001b[38;5;124;03m    Distance (int) in centimeters, or -1 if no data is obtained\u001b[39;00m\n\u001b[1;32m   3444\u001b[0m \u001b[38;5;124;03m\"\"\"\u001b[39;00m\n\u001b[1;32m   3445\u001b[0m logging\u001b[38;5;241m.\u001b[39mdebug(\u001b[38;5;124m'\u001b[39m\u001b[38;5;124mread_distance_sensor id:\u001b[39m\u001b[38;5;132;01m{}\u001b[39;00m\u001b[38;5;124m'\u001b[39m\u001b[38;5;241m.\u001b[39mformat(\u001b[38;5;28mid\u001b[39m))\n\u001b[0;32m-> 3447\u001b[0m data \u001b[38;5;241m=\u001b[39m \u001b[38;5;28mself\u001b[39m\u001b[38;5;241m.\u001b[39mSENSOR\u001b[38;5;241m.\u001b[39mgetDistanceSensorValue(\u001b[38;5;28mid\u001b[39m)\n\u001b[1;32m   3448\u001b[0m \u001b[38;5;28;01mif\u001b[39;00m data \u001b[38;5;129;01mis\u001b[39;00m \u001b[38;5;129;01mnot\u001b[39;00m \u001b[38;5;28;01mNone\u001b[39;00m:\n\u001b[1;32m   3449\u001b[0m     \u001b[38;5;28;01mif\u001b[39;00m data\u001b[38;5;241m.\u001b[39mdeviceId \u001b[38;5;241m==\u001b[39m \u001b[38;5;28mstr\u001b[39m(\u001b[38;5;28mid\u001b[39m):\n",
      "File \u001b[0;32m~/anaconda3/lib/python3.11/site-packages/ugot/src/sensor_client.py:27\u001b[0m, in \u001b[0;36mSensorClient.getDistanceSensorValue\u001b[0;34m(self, sensor_id)\u001b[0m\n\u001b[1;32m     24\u001b[0m input_data \u001b[38;5;241m=\u001b[39m sensor_pb2\u001b[38;5;241m.\u001b[39mDistanceSensorRequest()\n\u001b[1;32m     25\u001b[0m input_data\u001b[38;5;241m.\u001b[39mdeviceId \u001b[38;5;241m=\u001b[39m \u001b[38;5;28mstr\u001b[39m(sensor_id)\n\u001b[0;32m---> 27\u001b[0m response \u001b[38;5;241m=\u001b[39m \u001b[38;5;28mself\u001b[39m\u001b[38;5;241m.\u001b[39mclient\u001b[38;5;241m.\u001b[39mgetDistanceSensorValue(input_data)\n\u001b[1;32m     28\u001b[0m \u001b[38;5;28;01mif\u001b[39;00m response\u001b[38;5;241m.\u001b[39mcode \u001b[38;5;241m!=\u001b[39m \u001b[38;5;241m0\u001b[39m:\n\u001b[1;32m     29\u001b[0m     response\u001b[38;5;241m.\u001b[39mdata\u001b[38;5;241m.\u001b[39mvalue \u001b[38;5;241m=\u001b[39m \u001b[38;5;241m-\u001b[39m\u001b[38;5;241m1\u001b[39m\n",
      "File \u001b[0;32m~/anaconda3/lib/python3.11/site-packages/grpc/_channel.py:1157\u001b[0m, in \u001b[0;36m_UnaryUnaryMultiCallable.__call__\u001b[0;34m(self, request, timeout, metadata, credentials, wait_for_ready, compression)\u001b[0m\n\u001b[1;32m   1145\u001b[0m \u001b[38;5;28;01mdef\u001b[39;00m \u001b[38;5;21m__call__\u001b[39m(\n\u001b[1;32m   1146\u001b[0m     \u001b[38;5;28mself\u001b[39m,\n\u001b[1;32m   1147\u001b[0m     request: Any,\n\u001b[0;32m   (...)\u001b[0m\n\u001b[1;32m   1152\u001b[0m     compression: Optional[grpc\u001b[38;5;241m.\u001b[39mCompression] \u001b[38;5;241m=\u001b[39m \u001b[38;5;28;01mNone\u001b[39;00m,\n\u001b[1;32m   1153\u001b[0m ) \u001b[38;5;241m-\u001b[39m\u001b[38;5;241m>\u001b[39m Any:\n\u001b[1;32m   1154\u001b[0m     (\n\u001b[1;32m   1155\u001b[0m         state,\n\u001b[1;32m   1156\u001b[0m         call,\n\u001b[0;32m-> 1157\u001b[0m     ) \u001b[38;5;241m=\u001b[39m \u001b[38;5;28mself\u001b[39m\u001b[38;5;241m.\u001b[39m_blocking(\n\u001b[1;32m   1158\u001b[0m         request, timeout, metadata, credentials, wait_for_ready, compression\n\u001b[1;32m   1159\u001b[0m     )\n\u001b[1;32m   1160\u001b[0m     \u001b[38;5;28;01mreturn\u001b[39;00m _end_unary_response_blocking(state, call, \u001b[38;5;28;01mFalse\u001b[39;00m, \u001b[38;5;28;01mNone\u001b[39;00m)\n",
      "File \u001b[0;32m~/anaconda3/lib/python3.11/site-packages/grpc/_channel.py:1141\u001b[0m, in \u001b[0;36m_UnaryUnaryMultiCallable._blocking\u001b[0;34m(self, request, timeout, metadata, credentials, wait_for_ready, compression)\u001b[0m\n\u001b[1;32m   1125\u001b[0m state\u001b[38;5;241m.\u001b[39mmethod \u001b[38;5;241m=\u001b[39m _common\u001b[38;5;241m.\u001b[39mdecode(\u001b[38;5;28mself\u001b[39m\u001b[38;5;241m.\u001b[39m_method)\n\u001b[1;32m   1126\u001b[0m call \u001b[38;5;241m=\u001b[39m \u001b[38;5;28mself\u001b[39m\u001b[38;5;241m.\u001b[39m_channel\u001b[38;5;241m.\u001b[39msegregated_call(\n\u001b[1;32m   1127\u001b[0m     cygrpc\u001b[38;5;241m.\u001b[39mPropagationConstants\u001b[38;5;241m.\u001b[39mGRPC_PROPAGATE_DEFAULTS,\n\u001b[1;32m   1128\u001b[0m     \u001b[38;5;28mself\u001b[39m\u001b[38;5;241m.\u001b[39m_method,\n\u001b[0;32m   (...)\u001b[0m\n\u001b[1;32m   1139\u001b[0m     \u001b[38;5;28mself\u001b[39m\u001b[38;5;241m.\u001b[39m_context,\n\u001b[1;32m   1140\u001b[0m )\n\u001b[0;32m-> 1141\u001b[0m event \u001b[38;5;241m=\u001b[39m call\u001b[38;5;241m.\u001b[39mnext_event()\n\u001b[1;32m   1142\u001b[0m _handle_event(event, state, \u001b[38;5;28mself\u001b[39m\u001b[38;5;241m.\u001b[39m_response_deserializer)\n\u001b[1;32m   1143\u001b[0m \u001b[38;5;28;01mreturn\u001b[39;00m state, call\n",
      "File \u001b[0;32msrc/python/grpcio/grpc/_cython/_cygrpc/channel.pyx.pxi:366\u001b[0m, in \u001b[0;36mgrpc._cython.cygrpc.SegregatedCall.next_event\u001b[0;34m()\u001b[0m\n",
      "File \u001b[0;32msrc/python/grpcio/grpc/_cython/_cygrpc/channel.pyx.pxi:187\u001b[0m, in \u001b[0;36mgrpc._cython.cygrpc._next_call_event\u001b[0;34m()\u001b[0m\n",
      "File \u001b[0;32msrc/python/grpcio/grpc/_cython/_cygrpc/channel.pyx.pxi:181\u001b[0m, in \u001b[0;36mgrpc._cython.cygrpc._next_call_event\u001b[0;34m()\u001b[0m\n",
      "File \u001b[0;32msrc/python/grpcio/grpc/_cython/_cygrpc/completion_queue.pyx.pxi:78\u001b[0m, in \u001b[0;36mgrpc._cython.cygrpc._latent_event\u001b[0;34m()\u001b[0m\n",
      "File \u001b[0;32msrc/python/grpcio/grpc/_cython/_cygrpc/completion_queue.pyx.pxi:62\u001b[0m, in \u001b[0;36mgrpc._cython.cygrpc._internal_latent_event\u001b[0;34m()\u001b[0m\n",
      "File \u001b[0;32msrc/python/grpcio/grpc/_cython/_cygrpc/completion_queue.pyx.pxi:58\u001b[0m, in \u001b[0;36mgrpc._cython.cygrpc._interpret_event\u001b[0;34m()\u001b[0m\n",
      "File \u001b[0;32msrc/python/grpcio/grpc/_cython/_cygrpc/tag.pyx.pxi:71\u001b[0m, in \u001b[0;36mgrpc._cython.cygrpc._BatchOperationTag.event\u001b[0;34m()\u001b[0m\n",
      "File \u001b[0;32msrc/python/grpcio/grpc/_cython/_cygrpc/operation.pyx.pxi:138\u001b[0m, in \u001b[0;36mgrpc._cython.cygrpc.ReceiveInitialMetadataOperation.un_c\u001b[0;34m()\u001b[0m\n",
      "File \u001b[0;32msrc/python/grpcio/grpc/_cython/_cygrpc/metadata.pyx.pxi:69\u001b[0m, in \u001b[0;36mgrpc._cython.cygrpc._metadata\u001b[0;34m()\u001b[0m\n",
      "File \u001b[0;32msrc/python/grpcio/grpc/_cython/_cygrpc/metadata.pyx.pxi:70\u001b[0m, in \u001b[0;36mgenexpr\u001b[0;34m()\u001b[0m\n",
      "File \u001b[0;32msrc/python/grpcio/grpc/_cython/_cygrpc/metadata.pyx.pxi:64\u001b[0m, in \u001b[0;36mgrpc._cython.cygrpc._metadatum\u001b[0;34m()\u001b[0m\n",
      "File \u001b[0;32m<string>:1\u001b[0m, in \u001b[0;36m<lambda>\u001b[0;34m(_cls, key, value)\u001b[0m\n",
      "\u001b[0;31mKeyboardInterrupt\u001b[0m: "
     ]
    }
   ],
   "source": [
    "Safe_distance = 15\n",
    "\n",
    "def check_path():\n",
    "    distance = got.read_distance_data(21)\n",
    "    return distance > Safe_distance\n",
    "\n",
    "while True:\n",
    "    # Move forward until obstacle detected\n",
    "    if check_path():\n",
    "        got.mecanum_move_speed(direction=0, speed=20)\n",
    "    else:\n",
    "        # Stop at obstacle\n",
    "        got.mecanum_stop()\n",
    "        time.sleep(0.5)\n",
    "        \n",
    "        # Check left path\n",
    "        got.mecanum_turn_speed_times(turn=2, speed=30, times=90, unit=2)\n",
    "        time.sleep(0.5)\n",
    "        \n",
    "        if check_path():\n",
    "            got.mecanum_move_speed(direction=0, speed=20)\n",
    "        else:\n",
    "            # Check right path\n",
    "            got.mecanum_turn_speed_times(turn=3, speed=30, times=180, unit=2)\n",
    "            time.sleep(0.5)\n",
    "            \n",
    "            if check_path():\n",
    "                got.mecanum_move_speed(direction=0, speed=20)\n",
    "            else:\n",
    "                # Return to original position\n",
    "                got.mecanum_turn_speed_times(turn=2, speed=30, times=90, unit=2)\n",
    "                time.sleep(0.5)"
   ]
  },
  {
   "cell_type": "markdown",
   "id": "69ad2beb-5d1d-4f43-9774-bd5a93d14328",
   "metadata": {
    "jp-MarkdownHeadingCollapsed": true
   },
   "source": [
    "## Stop the robot ?"
   ]
  },
  {
   "cell_type": "code",
   "execution_count": 30,
   "id": "e98de95b-87db-4d9b-a967-ba83549eaa5d",
   "metadata": {},
   "outputs": [
    {
     "ename": "SyntaxError",
     "evalue": "unterminated string literal (detected at line 6) (2461974072.py, line 6)",
     "output_type": "error",
     "traceback": [
      "\u001b[0;36m  Cell \u001b[0;32mIn[30], line 6\u001b[0;36m\u001b[0m\n\u001b[0;31m    got.initialize('192.168.1.235)\u001b[0m\n\u001b[0m                   ^\u001b[0m\n\u001b[0;31mSyntaxError\u001b[0m\u001b[0;31m:\u001b[0m unterminated string literal (detected at line 6)\n"
     ]
    }
   ],
   "source": [
    "from ugot import ugot\n",
    "\n",
    "def stop_program():\n",
    "    # Initialize the UGOT robot\n",
    "    got = ugot.UGOT()\n",
    "    got.initialize('192.168.1.235)   \n",
    "    # Replace with your UGOT's IP address\n",
    "    \n",
    "    # Stop the motion control program\n",
    "    got.stop_chassis()\n",
    "\n",
    "# Call the function to stop the program\n",
    "stop_program()"
   ]
  },
  {
   "cell_type": "code",
   "execution_count": 32,
   "id": "56567388-cf71-43c6-bff0-472575eb6036",
   "metadata": {},
   "outputs": [
    {
     "name": "stdout",
     "output_type": "stream",
     "text": [
      "192.168.1.235:50051\n"
     ]
    }
   ],
   "source": [
    "from ugot import ugot\n",
    "\n",
    "def stop_program(ip_address: str) -> None:\n",
    "    \"\"\"\n",
    "    Initializes the UGOT robot and stops its motion control program.\n",
    "\n",
    "    Args:\n",
    "    ip_address (str): The IP address of the UGOT robot.\n",
    "    \n",
    "    Returns:\n",
    "    None\n",
    "    \"\"\"\n",
    "    # Initialize the UGOT robot\n",
    "    got = ugot.UGOT()\n",
    "    got.initialize(ip_address)  # Initialize with the provided IP address\n",
    "    \n",
    "    # Stop the motion control program\n",
    "    got.stop_chassis()\n",
    "\n",
    "# Call the function to stop the program with the specified IP address\n",
    "stop_program('192.168.1.235')  # Replace with your UGOT's IP address"
   ]
  },
  {
   "cell_type": "markdown",
   "id": "aaf6be3e-9db1-4b62-b3f9-99d6c6ec06ab",
   "metadata": {
    "jp-MarkdownHeadingCollapsed": true
   },
   "source": [
    "## Session 1-basic syntax and chassis control"
   ]
  },
  {
   "cell_type": "code",
   "execution_count": 69,
   "id": "c7a633f5-e42e-4098-a40d-69dfa371543b",
   "metadata": {},
   "outputs": [
    {
     "name": "stdout",
     "output_type": "stream",
     "text": [
      "Hello World!\n"
     ]
    }
   ],
   "source": [
    "# Define a message to be displayed and spoken\n",
    "message = \"Hello World!\"\n",
    "\n",
    "# Print the message to the console\n",
    "print(message)\n",
    "\n",
    "# Display the message on the screen using the got library\n",
    "got.screen_print_text(message, 1)\n",
    "\n",
    "# Play the message as text-to-speech audio, without waiting for it to finish\n",
    "got.play_audio_tts(message, voice_type=0, wait=False)\n",
    "\n",
    "# Pause the execution for 3 seconds to allow the audio to play\n",
    "time.sleep(3)\n",
    "\n",
    "# Clear the screen after the message has been displayed\n",
    "got.screen_clear()\n",
    "\n",
    "# Show a green light effect for 3 seconds\n",
    "got.show_light_rgb_effect(0, 225, 0, 3)\n",
    "\n",
    "# Pause the execution for another 3 seconds to let the light effect show\n",
    "time.sleep(3)\n",
    "\n",
    "# Move the robot in a straight line at a speed of 30 for 50 time units\n",
    "got.mecanum_translate_speed_times(angle=0, speed=30, times=50, unit=1)\n",
    "\n",
    "# Turn off all lights on the robot\n",
    "got.turn_off_lights()\n",
    "\n",
    "# Stop the robot's movement\n",
    "got.mecanum_stop()"
   ]
  },
  {
   "cell_type": "code",
   "execution_count": 63,
   "id": "c5cb3871-fefe-4e2c-bd7b-c2e3541ea50e",
   "metadata": {},
   "outputs": [
    {
     "name": "stdout",
     "output_type": "stream",
     "text": [
      "Helll World and TTA!\n"
     ]
    }
   ],
   "source": [
    "print(\"Helll World!\") # The first message should be sent by using any programming language.\n",
    "got.screen_print_text(message, 1)\n",
    " #screen_print_text(text, color) Main control display screen prints text Parameters: a.text (string) – Text to be printed b.color (int) – [0-8] 0 Black; 1 White; 2 Purple; 3 Red; 4 Orange; 5 Yellow; 6 Green; 7 Cyan; 8 Blue\"\"\"\n"
   ]
  },
  {
   "cell_type": "code",
   "execution_count": null,
   "id": "6210cb21-686a-41b8-b9e8-2c0109d9cf77",
   "metadata": {},
   "outputs": [],
   "source": [
    "print(\"Helll World!\") # The first message should be sent by using any programming language."
   ]
  },
  {
   "cell_type": "code",
   "execution_count": null,
   "id": "465e8e4f-9676-4e70-a4f4-772d2b964f9d",
   "metadata": {},
   "outputs": [],
   "source": [
    "![TTA](images/Test-1.png)"
   ]
  },
  {
   "cell_type": "markdown",
   "id": "beb01819-8533-4d0b-bbc8-1eed81f6b98d",
   "metadata": {},
   "source": [
    "## How to insert image"
   ]
  },
  {
   "cell_type": "code",
   "execution_count": null,
   "id": "df5fe81a-75d2-41a7-8f8e-c3df756a90c6",
   "metadata": {},
   "outputs": [],
   "source": [
    "![TTA](images/Test-1.png)"
   ]
  },
  {
   "cell_type": "markdown",
   "id": "c285e8b2-991c-444b-9570-72eb99fef163",
   "metadata": {
    "jp-MarkdownHeadingCollapsed": true
   },
   "source": [
    "## Session 2- multilateral polygon, variable, random, chassis control"
   ]
  },
  {
   "cell_type": "code",
   "execution_count": null,
   "id": "e3d93352-44b4-4d07-af4f-49bc9a81a2ea",
   "metadata": {},
   "outputs": [],
   "source": []
  },
  {
   "cell_type": "code",
   "execution_count": null,
   "id": "f263cc69-1a38-43bf-b97c-ab3cf13b2f0e",
   "metadata": {},
   "outputs": [],
   "source": [
    "for i in range(3):\n",
    "    got.play_audio_tts(\"Good afternoon\")\n",
    "    got.screen_print_text_newline(\"Good afternoon\",1)\n",
    "    time.sleep(2)\n",
    "    got.screen_clear()"
   ]
  },
  {
   "cell_type": "code",
   "execution_count": null,
   "id": "955765c6-f226-4b58-b9d7-4f7174ae64e7",
   "metadata": {},
   "outputs": [],
   "source": [
    "# Mecansum wheel vehicle square driving\n",
    "\n",
    "got.mecanum_translate_speed_times(angle=0, speed=30, times=90, unit=1)  \n",
    "# Move the robot using mecanum wheels at a speed of 30cm/s for 90 cm, with an angle of 0 degrees\n",
    "got.mecanum_turn_speed_times(turn=3, speed=30, times=90, unit=2) \n",
    "# Rotate the robot turn right(3) at a speed of 30degree/s for 90 degree\n",
    "got.mecanum_translate_speed_times(angle=0, speed=30, times=90, unit=1)\n",
    "got.mecanum_turn_speed_times(turn=3, speed=30, times=90, unit=2) \n",
    "got.mecanum_translate_speed_times(angle=0, speed=30, times=90, unit=1)\n",
    "got.mecanum_turn_speed_times(turn=3, speed=30, times=90, unit=2)\n",
    "got.mecanum_translate_speed_times(angle=0, speed=30, times=90, unit=1)\n",
    "got.mecanum_turn_speed_times(turn=3, speed=30, times=90, unit=2)"
   ]
  },
  {
   "cell_type": "code",
   "execution_count": null,
   "id": "c68250a5-33df-4e7c-8267-8186138dce4c",
   "metadata": {},
   "outputs": [],
   "source": [
    "# Mecansum wheel vehicle square driving\n",
    "for i in range(4):\n",
    "    # Move the robot using mecanum wheels at a speed of 30cm/s for 90 cm, with an angle of 0 degrees\n",
    "    got.mecanum_translate_speed_times(angle=0, speed=30, times=90, unit=1)\n",
    "    \n",
    "    # Rotate the robot turn right(3) at a speed of 30degree/s for 90 degree\n",
    "    got.mecanum_turn_speed_times(turn=3, speed=30, times=90, unit=2) "
   ]
  },
  {
   "cell_type": "markdown",
   "id": "d824ff89-2fec-4d70-889d-06ef3d566d07",
   "metadata": {},
   "source": [
    "The range() Function\n",
    "To loop through a set of code a specified number of times, we can use the range() function,\n",
    "The range() function returns a sequence of numbers, starting from 0 by default, and increments by 1 (by default), and ends at a specified number."
   ]
  },
  {
   "cell_type": "code",
   "execution_count": null,
   "id": "a7fd465e-aa8c-461d-84ef-7e355410ca44",
   "metadata": {},
   "outputs": [],
   "source": []
  },
  {
   "cell_type": "code",
   "execution_count": null,
   "id": "396e411c-ed18-4ade-b696-b7793d988edc",
   "metadata": {},
   "outputs": [],
   "source": [
    "## Mecanum wheel vehicle multilateral polygon- complex version\n",
    "# Import required modules\n",
    "from ugot import ugot\n",
    "import random\n",
    "import time\n",
    "\n",
    "# Initialize the UGOT robot\n",
    "got = ugot.UGOT()\n",
    "got.initialize('192.168.1.235')  # Ensure the correct IP address\n",
    "\n",
    "# Generate random polygon (3-6 sides)\n",
    "sides = random.randint(3, 6)\n",
    "turning = int(360 / sides)  # Ensure it's an integer\n",
    "\n",
    "# Display info on screen (helpful for debugging)\n",
    "got.screen_clear()\n",
    "got.screen_print_text(f\"Making {sides} sides\", 2)\n",
    "time.sleep(1)\n",
    "\n",
    "try:\n",
    "    # Draw the polygon\n",
    "    for i in range(sides):\n",
    "        # Drive forward\n",
    "        got.mecanum_translate_speed_times(angle=0, speed=30, times=60, unit=1)\n",
    "        time.sleep(1)  # Small pause between movements\n",
    "        \n",
    "        # Turn \n",
    "        got.mecanum_turn_speed_times(turn=3, speed=30, times=turning, unit=2)\n",
    "        time.sleep(1)  # Small pause between movements\n",
    "\n",
    "except Exception as e:\n",
    "    print(f\"Error occurred: {e}\")\n",
    "\n",
    "finally:\n",
    "    # Always stop the robot at the end\n",
    "    got.mecanum_stop()\n",
    "    got.screen_print_text(\"Done!\", 6)"
   ]
  },
  {
   "cell_type": "code",
   "execution_count": null,
   "id": "ecca897f-2185-4dba-9e67-99f8409349c9",
   "metadata": {},
   "outputs": [],
   "source": []
  },
  {
   "cell_type": "code",
   "execution_count": null,
   "id": "8a7a0744-41d4-493d-b375-b8f839429d30",
   "metadata": {},
   "outputs": [],
   "source": [
    "## Mecanum wheel vehicle multilateral polygon- simple version\n",
    "# Import required modules\n",
    "from ugot import ugot\n",
    "import random\n",
    "import time\n",
    "\n",
    "# Initialize the UGOT robot\n",
    "got = ugot.UGOT()\n",
    "got.initialize('192.168.1.235')  # Ensure the correct IP address\n",
    "\n",
    "# Generate random polygon (3-6 sides)\n",
    "sides = random.randint(3, 6)\n",
    "turning = int(360 / sides)  # Ensure it's an integer\n",
    "\n",
    "# Display info on screen (helpful for debugging)\n",
    "got.screen_clear()\n",
    "got.screen_print_text(f\"Making {sides} sides\", 2)\n",
    "time.sleep(1)\n",
    "\n",
    "# Draw the polygon\n",
    "for i in range(sides):\n",
    "# Drive forward\n",
    "    got.mecanum_translate_speed_times(angle=0, speed=30, times=60, unit=1)\n",
    "    time.sleep(1)  # Small pause between movements\n",
    "\n",
    "# Turn \n",
    "    got.mecanum_turn_speed_times(turn=3, speed=30, times=turning, unit=2)\n",
    "    time.sleep(1)  # Small pause between movements\n",
    "\n",
    "got.mecanum_stop()\n",
    "got.screen_print_text(\"Done!\", 6)"
   ]
  },
  {
   "cell_type": "code",
   "execution_count": null,
   "id": "e7515ca0-83c1-4e0d-bd76-71bd2f23c7cb",
   "metadata": {},
   "outputs": [],
   "source": []
  },
  {
   "cell_type": "markdown",
   "id": "4aeaa682-770a-4c7e-b0a0-93d054b32a4a",
   "metadata": {
    "jp-MarkdownHeadingCollapsed": true
   },
   "source": [
    "## Session 3- IR sensor, if else, while true"
   ]
  },
  {
   "cell_type": "code",
   "execution_count": null,
   "id": "f269a704-6448-4908-a012-b6e66242e636",
   "metadata": {},
   "outputs": [],
   "source": [
    "# define distance thresholds int cm- complex version\n",
    "Safe_distance = 25 \n",
    "\n",
    "try:\n",
    "    while True:\n",
    "        try:\n",
    "           distance = got.read_distance_data(21)\n",
    "           if distance == -1: # invalide reading\n",
    "              continue\n",
    "            \n",
    "           print(f\"Distance:{distance}cm\")\n",
    "           time.sleep(0.5)\n",
    "\n",
    "           if distance >= Safe_distance:\n",
    "              got.mecanum_move_speed(direction=0, speed= 20)\n",
    "           else:\n",
    "              got.mecanum_stop()\n",
    "              got.show_light_rgb([0,1,2,3],255,0,0)\n",
    "              got.play_audio_tts(\"Obstacle detected!\",0,False)\n",
    "              break\n",
    "               \n",
    "        except Exception as e:\n",
    "            print(f\"Error reading sensor: {e}\")\n",
    "            got.mecanum_stop()\n",
    "            break\n",
    "finally:\n",
    "    got.mecanum_stop()\n",
    "    got.turn_off_lights()\n",
    "    print(\"Program ended\")"
   ]
  },
  {
   "cell_type": "code",
   "execution_count": null,
   "id": "2287ca81-e1d1-42d4-b200-7b778ac0906c",
   "metadata": {},
   "outputs": [],
   "source": []
  },
  {
   "cell_type": "code",
   "execution_count": null,
   "id": "f5761add-1650-45ae-bea5-109b8086a0bc",
   "metadata": {},
   "outputs": [],
   "source": [
    "# define distance thresholds int cm- simple version\n",
    "from ugot import ugot\n",
    "import time\n",
    "\n",
    "# Initialize the UGOT robot\n",
    "got = ugot.UGOT()\n",
    "got.initialize('192.168.1.235')\n",
    "\n",
    "# Define safe distance threshold (in cm)\n",
    "Safe_distance = 25 \n",
    "\n",
    "while True:\n",
    "    distance = got.read_distance_data(21)  # Read distance sensor\n",
    "\n",
    "    if distance == -1:  # Invalid reading, skip this loop iteration\n",
    "        print(\"Invalid sensor reading. Trying again...\")\n",
    "        continue  \n",
    "\n",
    "    print(f\"Distance: {distance} cm\")  # Print valid distance\n",
    "    time.sleep(0.5)  # Small delay before next check\n",
    "\n",
    "    if distance >= Safe_distance:\n",
    "        got.mecanum_move_speed(direction=0, speed=20)  # Move forward\n",
    "    else:\n",
    "        got.mecanum_stop()\n",
    "        got.show_light_rgb([0,1,2,3], 255, 0, 0)  # Turn lights red\n",
    "        got.play_audio_tts(\"Obstacle detected!\", 0, False)\n",
    "        break  # Exit loop if obstacle is detected\n",
    "\n",
    "# Stop the robot and turn off lights after exiting the loop\n",
    "got.mecanum_stop()\n",
    "got.turn_off_lights()\n",
    "print(\"Program ended\")\n"
   ]
  },
  {
   "cell_type": "code",
   "execution_count": null,
   "id": "11ee0f54-4185-4d2b-b424-d4e9896e1d6f",
   "metadata": {},
   "outputs": [],
   "source": []
  },
  {
   "cell_type": "code",
   "execution_count": null,
   "id": "f69066f7-c7ae-4c97-ba4f-7095613d5193",
   "metadata": {},
   "outputs": [],
   "source": [
    "for id in range(20, 60):  # Distance sensors typically have IDs in this range\n",
    "    distance = got.read_distance_data(id)\n",
    "    if distance > 0:  # If we get a valid reading\n",
    "        # Removed unnecessary + before str() conversions\n",
    "        print(\"The IR sensor ID is: \" + str(id))\n",
    "        print(\"Distance: \" + str(distance) + \"cm\")\n",
    "    time.sleep(0.5)\n",
    "\n",
    "# Alternative solution using f-strings (more readable):\n",
    "for id in range(20, 60):  # Distance sensors typically have IDs in this range\n",
    "    distance = got.read_distance_data(id)\n",
    "    if distance > 0:  # If we get a valid reading\n",
    "        print(f\"The IR sensor ID is: {id}\")\n",
    "        print(f\"Distance: {distance}cm\")\n",
    "    time.sleep(0.5)"
   ]
  },
  {
   "cell_type": "code",
   "execution_count": null,
   "id": "50344d8f-5029-4eaf-a1dc-3f91f13dc089",
   "metadata": {},
   "outputs": [],
   "source": []
  },
  {
   "cell_type": "markdown",
   "id": "910cce03-d1aa-4c24-8d2c-8fb6a1a5cdf2",
   "metadata": {
    "jp-MarkdownHeadingCollapsed": true
   },
   "source": [
    "## Mechanical arm control"
   ]
  },
  {
   "cell_type": "code",
   "execution_count": 203,
   "id": "e78dafa4-7fbf-4bbe-a299-69a2ca3abba9",
   "metadata": {},
   "outputs": [
    {
     "name": "stdout",
     "output_type": "stream",
     "text": [
      "Obstacle detected.\n",
      "Obstacle cleaned.\n",
      "Obstacle detected.\n",
      "Obstacle cleaned.\n",
      "Mission completed.\n"
     ]
    }
   ],
   "source": [
    "def path_clear():\n",
    "    got.mechanical_clamp_release()\n",
    "    time.sleep(1)\n",
    "    got.mechanical_joint_control(0,0,0,1000)\n",
    "    got.mechanical_joint_control(0,0,-90,2000)\n",
    "    time.sleep(2)\n",
    "    got.mechanical_clamp_close()\n",
    "    time.sleep(1)\n",
    "    got.mechanical_joint_control(90,0,-20,2000)\n",
    "    time.sleep(2)\n",
    "    got.mechanical_joint_control(90,0,-70,2000)\n",
    "    time.sleep(2)\n",
    "    got.mechanical_clamp_release()\n",
    "    time.sleep(1)\n",
    "    got.mechanical_joint_control(90,0,0,2000)\n",
    "    time.sleep(2)\n",
    "    got.mechanical_joint_control(0,0,0,2000)\n",
    "\n",
    "# operate the path clean code only twice.\n",
    "\n",
    "clear_action = 0\n",
    "total_actions = 2\n",
    "\n",
    "while clear_action < 2:\n",
    "    distance = got.read_distance_data(21)\n",
    "    if distance < 10:\n",
    "        print(\"Obstacle detected.\")\n",
    "        path_clear()\n",
    "        clear_action += 1  \n",
    "        print(\"Obstacle cleaned.\")\n",
    "    time.sleep(1) # add some time betwee commands.\n",
    "\n",
    "print(\"Mission completed.\")"
   ]
  },
  {
   "cell_type": "code",
   "execution_count": 147,
   "id": "2ce4e08e-3180-4ba7-9bd5-45463ecffe3e",
   "metadata": {},
   "outputs": [],
   "source": [
    "got.mechanical_joint_control(0,0,0,2000)\n",
    "time.sleep(2)"
   ]
  },
  {
   "cell_type": "code",
   "execution_count": 131,
   "id": "65ea70b1-9b36-4ad7-82f4-3df707598e37",
   "metadata": {},
   "outputs": [],
   "source": [
    "got.mechanical_clamp_close()"
   ]
  },
  {
   "cell_type": "code",
   "execution_count": 139,
   "id": "f8a68d48-9f35-41d6-931b-6fbf9c8cea3d",
   "metadata": {},
   "outputs": [],
   "source": [
    "got.mechanical_clamp_release()"
   ]
  },
  {
   "cell_type": "markdown",
   "id": "a023c260-3a5b-4e90-9b6a-1e9e72e51f9d",
   "metadata": {
    "jp-MarkdownHeadingCollapsed": true
   },
   "source": [
    "## Obstacle detection and cleaning"
   ]
  },
  {
   "cell_type": "code",
   "execution_count": 242,
   "id": "79a4ef7e-d5db-4b15-8751-1a6e9ebe0c45",
   "metadata": {},
   "outputs": [
    {
     "name": "stdout",
     "output_type": "stream",
     "text": [
      "Mission completed.\n"
     ]
    }
   ],
   "source": [
    "# use while loop\n",
    "\n",
    "def path_clear():\n",
    "    got.mechanical_clamp_release()\n",
    "    time.sleep(1)\n",
    "    got.mechanical_joint_control(0,0,0,1000)\n",
    "    got.mechanical_joint_control(0,0,-90,2000)\n",
    "    time.sleep(3)\n",
    "    got.mechanical_clamp_close()\n",
    "    time.sleep(1)\n",
    "    got.mechanical_joint_control(90,0,-20,2000)\n",
    "    time.sleep(2)\n",
    "    got.mechanical_joint_control(90,0,-70,2000)\n",
    "    time.sleep(2)\n",
    "    got.mechanical_clamp_release()\n",
    "    time.sleep(1)\n",
    "    got.mechanical_joint_control(90,0,0,2000)\n",
    "    time.sleep(2)\n",
    "    got.mechanical_joint_control(0,0,0,2000)\n",
    "\n",
    "distance = got.read_distance_data(21)\n",
    "while distance > 12:\n",
    "    got.mecanum_move_speed(0,20)\n",
    "    distance = got.read_distance_data(21)\n",
    "    time.sleep(0.1)\n",
    "    \n",
    "got.mecanum_stop()\n",
    "got.play_audio_tts(\"Obstacle detected.\") \n",
    "time.sleep(1)\n",
    "path_clear()\n",
    "time.sleep(1)\n",
    "got.play_audio_tts(\"The path is clear.\") \n",
    "print(\"Mission completed.\")\n",
    "\n"
   ]
  },
  {
   "cell_type": "code",
   "execution_count": 268,
   "id": "f980bb92-a04a-4bc9-97a3-2c71579ddb00",
   "metadata": {},
   "outputs": [
    {
     "name": "stdout",
     "output_type": "stream",
     "text": [
      "Mission completed.\n"
     ]
    }
   ],
   "source": [
    "# use while True and if...else loop\n",
    "\n",
    "def path_clear():\n",
    "    got.mechanical_clamp_release()\n",
    "    time.sleep(1)\n",
    "    got.mechanical_joint_control(0,0,0,1000)\n",
    "    got.mechanical_joint_control(0,0,-90,2000)\n",
    "    time.sleep(3)\n",
    "    got.mechanical_clamp_close()\n",
    "    time.sleep(1)\n",
    "    got.mechanical_joint_control(90,0,-20,2000)\n",
    "    time.sleep(2)\n",
    "    got.mechanical_joint_control(90,0,-70,2000)\n",
    "    time.sleep(2)\n",
    "    got.mechanical_clamp_release()\n",
    "    time.sleep(1)\n",
    "    got.mechanical_joint_control(90,0,0,2000)\n",
    "    time.sleep(2)\n",
    "    got.mechanical_joint_control(0,0,0,2000)\n",
    "\n",
    "while True:\n",
    "    distance = got.read_distance_data(21)\n",
    "\n",
    "    if distance > 12:\n",
    "        got.mecanum_move_speed(0,20)\n",
    "        distance = got.read_distance_data(21)\n",
    "        time.sleep(0.1)\n",
    "    else:\n",
    "        got.mecanum_stop()\n",
    "        got.play_audio_tts(\"Obstacle detected.\") \n",
    "        time.sleep(1)\n",
    "        path_clear() \n",
    "        time.sleep(1)\n",
    "        got.play_audio_tts(\"The path is clear.\") \n",
    "        break \n",
    "\n",
    "\n",
    "print(\"Mission completed.\")\n"
   ]
  },
  {
   "cell_type": "code",
   "execution_count": 44,
   "id": "4eeae8d0-79f7-42be-8dd0-0f6eb75d07c7",
   "metadata": {},
   "outputs": [],
   "source": [
    "\n",
    "safe_distance = 11\n",
    "max_speed = 40\n",
    "current_distance = got.read_distance_data(21)  # check the IR value first\n",
    "\n",
    "def path_clear():\n",
    "    got.mechanical_clamp_release()\n",
    "    time.sleep(1)\n",
    "    got.mechanical_joint_control(0,0,0,1000)\n",
    "    got.mechanical_joint_control(0,0,-90,2000)\n",
    "    time.sleep(3)\n",
    "    got.mechanical_clamp_close()\n",
    "    time.sleep(1)\n",
    "    got.mechanical_joint_control(90,0,-20,2000)\n",
    "    time.sleep(2)\n",
    "    got.mechanical_joint_control(90,0,-70,2000)\n",
    "    time.sleep(2)\n",
    "    got.mechanical_clamp_release()\n",
    "    time.sleep(1)\n",
    "    got.mechanical_joint_control(90,0,0,2000)\n",
    "    time.sleep(2)\n",
    "    got.mechanical_joint_control(0,0,0,2000)\n",
    "\n",
    "while True:\n",
    "    current_distance = got.read_distance_data(21)  # constantly check the current distance\n",
    "    if current_distance < safe_distance:\n",
    "        got.mecanum_stop()\n",
    "        got.show_light_rgb_effect(255,0,0,0)  # red LED\n",
    "        got.play_audio_tts(\"Obstacle detected!\")\n",
    "        time.sleep(1)\n",
    "        got.turn_off_lights()        \n",
    "        break  # exit the loop completely\n",
    "    else:\n",
    "        speed = int(current_distance)  # set the vehicle speed based on the IR sensor value.Attentation! The current distance has to be corverted into Int!! \n",
    "        if speed > max_speed:  # make sure the current speed is not greater than max_speed\n",
    "            speed = max_speed\n",
    "        got.mecanum_move_speed(0, speed)  # keep driving forward\n",
    "        got.show_light_rgb_effect(0,255,0,0)  # Green light for driving\n",
    "        time.sleep(0.1)\n",
    "        \n",
    "time.sleep(0.5)\n",
    "path_clear()\n",
    "time.sleep(1)\n",
    "got.play_audio_tts(\"The path is clear, mission completeed.\") \n"
   ]
  },
  {
   "cell_type": "code",
   "execution_count": 26,
   "id": "2aef4bce-3a60-4f15-a743-1f46a8d11b31",
   "metadata": {},
   "outputs": [],
   "source": [
    "got.mechanical_joint_control(0,0,0,1000)"
   ]
  },
  {
   "cell_type": "code",
   "execution_count": 266,
   "id": "12b077c9-6641-4fa5-8736-859e63465826",
   "metadata": {},
   "outputs": [],
   "source": [
    "got.mechanical_clamp_release()\n",
    "time.sleep(1)\n",
    "got.mechanical_joint_control(0,0,0,1000)\n",
    "got.mechanical_clamp_close()\n",
    "time.sleep(1)"
   ]
  },
  {
   "cell_type": "code",
   "execution_count": 36,
   "id": "7b6eb347-85a9-410f-b713-6770c617627b",
   "metadata": {},
   "outputs": [],
   "source": [
    "def path_clear():\n",
    "    got.mechanical_clamp_release()\n",
    "    time.sleep(1)\n",
    "    got.mechanical_joint_control(0,0,0,1000)\n",
    "    got.mechanical_joint_control(0,0,-90,2000)\n",
    "    time.sleep(3)\n",
    "    got.mechanical_clamp_close()\n",
    "    time.sleep(1)\n",
    "    got.mechanical_joint_control(90,0,-20,2000)\n",
    "    time.sleep(2)\n",
    "    got.mechanical_joint_control(90,0,-70,2000)\n",
    "    time.sleep(2)\n",
    "    got.mechanical_clamp_release()\n",
    "    time.sleep(1)\n",
    "    got.mechanical_joint_control(90,0,0,2000)\n",
    "    time.sleep(2)\n",
    "    got.mechanical_joint_control(0,0,0,2000)\n",
    "\n",
    "path_clear()"
   ]
  },
  {
   "cell_type": "code",
   "execution_count": 34,
   "id": "ea0ef32c-0b41-4b2c-a46c-fbdb32cb3cdc",
   "metadata": {},
   "outputs": [],
   "source": [
    "# open the gripper\n",
    "got.mechanical_clamp_close()\n",
    "time.sleep(2)"
   ]
  },
  {
   "cell_type": "markdown",
   "id": "495b1be3-b241-433f-8db4-8a4f54346d77",
   "metadata": {},
   "source": [
    "## line following (using list)"
   ]
  },
  {
   "cell_type": "code",
   "execution_count": 14,
   "id": "04c9a2c3-28b6-4820-bbc6-ea8667edae70",
   "metadata": {},
   "outputs": [
    {
     "name": "stdout",
     "output_type": "stream",
     "text": [
      "No line detected! Stop!\n"
     ]
    }
   ],
   "source": [
    "# Set up line recognition\n",
    "got.load_models(['line_recognition'])\n",
    "got.set_track_recognition_line(0)  # 0 for single track line\n",
    "\n",
    "# Main line following loop\n",
    "while True:\n",
    "    # Get all line info (offset, type, x, y)\n",
    "    line_info = got.get_single_track_total_info()\n",
    "    offset = line_info[0]\n",
    "    line_type = line_info[1]  # 0 means no line detected\n",
    "    \n",
    "    # Check if line is detected\n",
    "    if line_type == 0:  # No line detected\n",
    "        # Stop the vehicle\n",
    "        got.mecanum_stop()\n",
    "        print(\"No line detected! Stop!\")\n",
    "        break  # Exit the loop\n",
    "    \n",
    "    # Simple line following logic\n",
    "    elif offset > 0:  # If line is to the left\n",
    "        got.mecanum_move_turn(0, 20, 2, int(abs(offset/5)))  # Turn left\n",
    "    else:  # If line is to the right or centered\n",
    "        got.mecanum_move_turn(0, 20, 3, int(abs(offset/5)))  # Turn right\n",
    "        \n",
    "    # Small delay to prevent overwhelming the robot\n",
    "    time.sleep(0.1)\n",
    "    \n",
    "got.play_audio_tts(\"Mission completed.\")"
   ]
  },
  {
   "cell_type": "markdown",
   "id": "dad542ee-3812-42c5-8bac-f70ed7e7f426",
   "metadata": {},
   "source": [
    "offset value requiring"
   ]
  },
  {
   "cell_type": "code",
   "execution_count": null,
   "id": "75d04627-39f3-47f6-88fe-3a5e876f6054",
   "metadata": {},
   "outputs": [],
   "source": []
  },
  {
   "cell_type": "code",
   "execution_count": null,
   "id": "13e5f8db-3fd5-4186-ad9a-6dedf012a0bf",
   "metadata": {},
   "outputs": [],
   "source": [
    "# Set up line recognition\n",
    "got.load_models(['line_recognition'])\n",
    "got.set_track_recognition_line(0)\n",
    "\n",
    "while True: \n",
    "    line_info = got.get_single_track_total_info()\n",
    "    offset = line_info[0]\n",
    "    line_type = line_info[1]\n",
    "\n",
    "    if line_type == 0:\n",
    "        print(\"No line detected.\")\n",
    "        break\n",
    "\n",
    "    else:\n",
    "        print(\"The offset value is: \",offset)  \n",
    "        # Negative value means the angle between the camera and the wirle is negative，\n",
    "        # which means the camera is pointing to the left side of the wirle. \n",
    "        # Positive value means the angle between the camera and the wirle is positive, \n",
    "        # which means the camer is pointing to the right side of the wirle.\n",
    "        time.sleep(1)"
   ]
  },
  {
   "cell_type": "markdown",
   "id": "b1737644-f9a7-4f57-8be7-e12f2a13f9bc",
   "metadata": {},
   "source": [
    "## Text recognition"
   ]
  },
  {
   "cell_type": "code",
   "execution_count": 38,
   "id": "b8df3279-431c-47f9-bc73-f300b758ec52",
   "metadata": {},
   "outputs": [
    {
     "name": "stdout",
     "output_type": "stream",
     "text": [
      "I see 'stop' and will stop.\n"
     ]
    }
   ],
   "source": [
    "import time\n",
    "got.load_models(['word_recognition']) # enable text recognition\n",
    "\n",
    "while True:\n",
    "    got.mecanum_translate_speed(90,20)\n",
    "    recognized_text = got.get_words_result()\n",
    "\n",
    "    if \"stop\" in recognized_text.lower(): # use .lower() to make the program more reliable.\n",
    "        print(\"I see 'stop' and will stop.\")\n",
    "        break\n",
    "\n",
    "got.mecanum_stop()    \n",
    "time.sleep(0.3)"
   ]
  },
  {
   "cell_type": "code",
   "execution_count": null,
   "id": "85628f0c-21d4-474f-aaba-b03bda223c48",
   "metadata": {},
   "outputs": [],
   "source": []
  },
  {
   "cell_type": "code",
   "execution_count": null,
   "id": "4969b1e9-38da-4234-9872-6b79991c5e62",
   "metadata": {},
   "outputs": [],
   "source": []
  },
  {
   "cell_type": "code",
   "execution_count": null,
   "id": "1a63c999-6226-4e67-b613-48bcf522eb00",
   "metadata": {},
   "outputs": [],
   "source": []
  }
 ],
 "metadata": {
  "kernelspec": {
   "display_name": "Python [conda env:base] *",
   "language": "python",
   "name": "conda-base-py"
  },
  "language_info": {
   "codemirror_mode": {
    "name": "ipython",
    "version": 3
   },
   "file_extension": ".py",
   "mimetype": "text/x-python",
   "name": "python",
   "nbconvert_exporter": "python",
   "pygments_lexer": "ipython3",
   "version": "3.11.5"
  }
 },
 "nbformat": 4,
 "nbformat_minor": 5
}
